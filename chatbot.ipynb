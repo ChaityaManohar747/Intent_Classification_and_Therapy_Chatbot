{
 "cells": [
  {
   "cell_type": "markdown",
   "metadata": {},
   "source": [
    "Importing T5 Transformer to FIne Tune"
   ]
  },
  {
   "cell_type": "code",
   "execution_count": 1,
   "metadata": {},
   "outputs": [
    {
     "name": "stderr",
     "output_type": "stream",
     "text": [
      "Global seed set to 42\n"
     ]
    }
   ],
   "source": [
    "import pandas as pd\n",
    "from simplet5 import SimpleT5"
   ]
  },
  {
   "cell_type": "code",
   "execution_count": 2,
   "metadata": {},
   "outputs": [
    {
     "data": {
      "text/html": [
       "<div>\n",
       "<style scoped>\n",
       "    .dataframe tbody tr th:only-of-type {\n",
       "        vertical-align: middle;\n",
       "    }\n",
       "\n",
       "    .dataframe tbody tr th {\n",
       "        vertical-align: top;\n",
       "    }\n",
       "\n",
       "    .dataframe thead th {\n",
       "        text-align: right;\n",
       "    }\n",
       "</style>\n",
       "<table border=\"1\" class=\"dataframe\">\n",
       "  <thead>\n",
       "    <tr style=\"text-align: right;\">\n",
       "      <th></th>\n",
       "      <th>Unnamed: 0</th>\n",
       "      <th>questionID</th>\n",
       "      <th>questionTitle</th>\n",
       "      <th>questionText</th>\n",
       "      <th>questionLink</th>\n",
       "      <th>topic</th>\n",
       "      <th>therapistInfo</th>\n",
       "      <th>therapistURL</th>\n",
       "      <th>answerText</th>\n",
       "      <th>upvotes</th>\n",
       "      <th>views</th>\n",
       "      <th>split</th>\n",
       "    </tr>\n",
       "  </thead>\n",
       "  <tbody>\n",
       "    <tr>\n",
       "      <th>0</th>\n",
       "      <td>0</td>\n",
       "      <td>0</td>\n",
       "      <td>Can I change my feeling of being worthless to ...</td>\n",
       "      <td>I'm going through some things with my feelings...</td>\n",
       "      <td>https://counselchat.com/questions/can-i-change...</td>\n",
       "      <td>depression</td>\n",
       "      <td>Sherry Katz, LCSWCouples and Family Therapist,...</td>\n",
       "      <td>https://counselchat.com/therapists/sherry-katz...</td>\n",
       "      <td>If everyone thinks you're worthless, then mayb...</td>\n",
       "      <td>1</td>\n",
       "      <td>2899</td>\n",
       "      <td>train</td>\n",
       "    </tr>\n",
       "    <tr>\n",
       "      <th>1</th>\n",
       "      <td>1</td>\n",
       "      <td>0</td>\n",
       "      <td>Can I change my feeling of being worthless to ...</td>\n",
       "      <td>I'm going through some things with my feelings...</td>\n",
       "      <td>https://counselchat.com/questions/can-i-change...</td>\n",
       "      <td>depression</td>\n",
       "      <td>Robin Landwehr, DBH, LPCC, NCCMental Health in...</td>\n",
       "      <td>https://counselchat.com/therapists/robin-landw...</td>\n",
       "      <td>Hello, and thank you for your question and see...</td>\n",
       "      <td>1</td>\n",
       "      <td>3514</td>\n",
       "      <td>train</td>\n",
       "    </tr>\n",
       "    <tr>\n",
       "      <th>2</th>\n",
       "      <td>2</td>\n",
       "      <td>0</td>\n",
       "      <td>Can I change my feeling of being worthless to ...</td>\n",
       "      <td>I'm going through some things with my feelings...</td>\n",
       "      <td>https://counselchat.com/questions/can-i-change...</td>\n",
       "      <td>depression</td>\n",
       "      <td>Lee KingI use an integrative approach to treat...</td>\n",
       "      <td>https://counselchat.com/therapists/lee-king</td>\n",
       "      <td>First thing I'd suggest is getting the sleep y...</td>\n",
       "      <td>0</td>\n",
       "      <td>5</td>\n",
       "      <td>train</td>\n",
       "    </tr>\n",
       "    <tr>\n",
       "      <th>3</th>\n",
       "      <td>3</td>\n",
       "      <td>0</td>\n",
       "      <td>Can I change my feeling of being worthless to ...</td>\n",
       "      <td>I'm going through some things with my feelings...</td>\n",
       "      <td>https://counselchat.com/questions/can-i-change...</td>\n",
       "      <td>depression</td>\n",
       "      <td>Shauntai Davis-YearginPersonalized, private on...</td>\n",
       "      <td>https://counselchat.com/therapists/shauntai-da...</td>\n",
       "      <td>Therapy is essential for those that are feelin...</td>\n",
       "      <td>0</td>\n",
       "      <td>31</td>\n",
       "      <td>train</td>\n",
       "    </tr>\n",
       "    <tr>\n",
       "      <th>4</th>\n",
       "      <td>4</td>\n",
       "      <td>0</td>\n",
       "      <td>Can I change my feeling of being worthless to ...</td>\n",
       "      <td>I'm going through some things with my feelings...</td>\n",
       "      <td>https://counselchat.com/questions/can-i-change...</td>\n",
       "      <td>depression</td>\n",
       "      <td>Jordan WhiteLicensed Social Worker at Oak Root...</td>\n",
       "      <td>https://counselchat.com/therapists/jordan-white</td>\n",
       "      <td>I first want to let you know that you are not ...</td>\n",
       "      <td>0</td>\n",
       "      <td>620</td>\n",
       "      <td>train</td>\n",
       "    </tr>\n",
       "    <tr>\n",
       "      <th>...</th>\n",
       "      <td>...</td>\n",
       "      <td>...</td>\n",
       "      <td>...</td>\n",
       "      <td>...</td>\n",
       "      <td>...</td>\n",
       "      <td>...</td>\n",
       "      <td>...</td>\n",
       "      <td>...</td>\n",
       "      <td>...</td>\n",
       "      <td>...</td>\n",
       "      <td>...</td>\n",
       "      <td>...</td>\n",
       "    </tr>\n",
       "    <tr>\n",
       "      <th>2124</th>\n",
       "      <td>2124</td>\n",
       "      <td>20</td>\n",
       "      <td>What happens in a counseling session?</td>\n",
       "      <td>After first meeting the client, what is the pr...</td>\n",
       "      <td>https://counselchat.com/questions/what-happens...</td>\n",
       "      <td>counseling-fundamentals</td>\n",
       "      <td>Victoria HaagFind direction for your life...</td>\n",
       "      <td>https://counselchat.com/therapists/victoria-haag</td>\n",
       "      <td>There are probably no two therapists alike bec...</td>\n",
       "      <td>0</td>\n",
       "      <td>45</td>\n",
       "      <td>train</td>\n",
       "    </tr>\n",
       "    <tr>\n",
       "      <th>2125</th>\n",
       "      <td>2125</td>\n",
       "      <td>20</td>\n",
       "      <td>What happens in a counseling session?</td>\n",
       "      <td>After first meeting the client, what is the pr...</td>\n",
       "      <td>https://counselchat.com/questions/what-happens...</td>\n",
       "      <td>counseling-fundamentals</td>\n",
       "      <td>Allison VelezIs your relationship worth it?</td>\n",
       "      <td>https://counselchat.com/therapists/allison-velez</td>\n",
       "      <td>Each counselor may have a different process, s...</td>\n",
       "      <td>0</td>\n",
       "      <td>37</td>\n",
       "      <td>train</td>\n",
       "    </tr>\n",
       "    <tr>\n",
       "      <th>2126</th>\n",
       "      <td>2126</td>\n",
       "      <td>20</td>\n",
       "      <td>What happens in a counseling session?</td>\n",
       "      <td>After first meeting the client, what is the pr...</td>\n",
       "      <td>https://counselchat.com/questions/what-happens...</td>\n",
       "      <td>counseling-fundamentals</td>\n",
       "      <td>David RouttPresident and Clinical Counselor at...</td>\n",
       "      <td>https://counselchat.com/therapists/david-routt</td>\n",
       "      <td>After meeting a client, many Counselors will a...</td>\n",
       "      <td>0</td>\n",
       "      <td>56</td>\n",
       "      <td>train</td>\n",
       "    </tr>\n",
       "    <tr>\n",
       "      <th>2127</th>\n",
       "      <td>2127</td>\n",
       "      <td>20</td>\n",
       "      <td>What happens in a counseling session?</td>\n",
       "      <td>After first meeting the client, what is the pr...</td>\n",
       "      <td>https://counselchat.com/questions/what-happens...</td>\n",
       "      <td>counseling-fundamentals</td>\n",
       "      <td>2nd Chance Counseling Service Online Addiction...</td>\n",
       "      <td>https://counselchat.com/therapists/2nd-chance-...</td>\n",
       "      <td>A good therapist will discuss what brought you...</td>\n",
       "      <td>0</td>\n",
       "      <td>27</td>\n",
       "      <td>train</td>\n",
       "    </tr>\n",
       "    <tr>\n",
       "      <th>2128</th>\n",
       "      <td>2128</td>\n",
       "      <td>20</td>\n",
       "      <td>What happens in a counseling session?</td>\n",
       "      <td>After first meeting the client, what is the pr...</td>\n",
       "      <td>https://counselchat.com/questions/what-happens...</td>\n",
       "      <td>counseling-fundamentals</td>\n",
       "      <td>Sherry Katz, LCSWCouples and Family Therapist,...</td>\n",
       "      <td>https://counselchat.com/therapists/sherry-katz...</td>\n",
       "      <td>Great question which I imagine many other peop...</td>\n",
       "      <td>0</td>\n",
       "      <td>25</td>\n",
       "      <td>train</td>\n",
       "    </tr>\n",
       "  </tbody>\n",
       "</table>\n",
       "<p>2129 rows × 12 columns</p>\n",
       "</div>"
      ],
      "text/plain": [
       "      Unnamed: 0  questionID  \\\n",
       "0              0           0   \n",
       "1              1           0   \n",
       "2              2           0   \n",
       "3              3           0   \n",
       "4              4           0   \n",
       "...          ...         ...   \n",
       "2124        2124          20   \n",
       "2125        2125          20   \n",
       "2126        2126          20   \n",
       "2127        2127          20   \n",
       "2128        2128          20   \n",
       "\n",
       "                                          questionTitle  \\\n",
       "0     Can I change my feeling of being worthless to ...   \n",
       "1     Can I change my feeling of being worthless to ...   \n",
       "2     Can I change my feeling of being worthless to ...   \n",
       "3     Can I change my feeling of being worthless to ...   \n",
       "4     Can I change my feeling of being worthless to ...   \n",
       "...                                                 ...   \n",
       "2124              What happens in a counseling session?   \n",
       "2125              What happens in a counseling session?   \n",
       "2126              What happens in a counseling session?   \n",
       "2127              What happens in a counseling session?   \n",
       "2128              What happens in a counseling session?   \n",
       "\n",
       "                                           questionText  \\\n",
       "0     I'm going through some things with my feelings...   \n",
       "1     I'm going through some things with my feelings...   \n",
       "2     I'm going through some things with my feelings...   \n",
       "3     I'm going through some things with my feelings...   \n",
       "4     I'm going through some things with my feelings...   \n",
       "...                                                 ...   \n",
       "2124  After first meeting the client, what is the pr...   \n",
       "2125  After first meeting the client, what is the pr...   \n",
       "2126  After first meeting the client, what is the pr...   \n",
       "2127  After first meeting the client, what is the pr...   \n",
       "2128  After first meeting the client, what is the pr...   \n",
       "\n",
       "                                           questionLink  \\\n",
       "0     https://counselchat.com/questions/can-i-change...   \n",
       "1     https://counselchat.com/questions/can-i-change...   \n",
       "2     https://counselchat.com/questions/can-i-change...   \n",
       "3     https://counselchat.com/questions/can-i-change...   \n",
       "4     https://counselchat.com/questions/can-i-change...   \n",
       "...                                                 ...   \n",
       "2124  https://counselchat.com/questions/what-happens...   \n",
       "2125  https://counselchat.com/questions/what-happens...   \n",
       "2126  https://counselchat.com/questions/what-happens...   \n",
       "2127  https://counselchat.com/questions/what-happens...   \n",
       "2128  https://counselchat.com/questions/what-happens...   \n",
       "\n",
       "                        topic  \\\n",
       "0                  depression   \n",
       "1                  depression   \n",
       "2                  depression   \n",
       "3                  depression   \n",
       "4                  depression   \n",
       "...                       ...   \n",
       "2124  counseling-fundamentals   \n",
       "2125  counseling-fundamentals   \n",
       "2126  counseling-fundamentals   \n",
       "2127  counseling-fundamentals   \n",
       "2128  counseling-fundamentals   \n",
       "\n",
       "                                          therapistInfo  \\\n",
       "0     Sherry Katz, LCSWCouples and Family Therapist,...   \n",
       "1     Robin Landwehr, DBH, LPCC, NCCMental Health in...   \n",
       "2     Lee KingI use an integrative approach to treat...   \n",
       "3     Shauntai Davis-YearginPersonalized, private on...   \n",
       "4     Jordan WhiteLicensed Social Worker at Oak Root...   \n",
       "...                                                 ...   \n",
       "2124       Victoria HaagFind direction for your life...   \n",
       "2125        Allison VelezIs your relationship worth it?   \n",
       "2126  David RouttPresident and Clinical Counselor at...   \n",
       "2127  2nd Chance Counseling Service Online Addiction...   \n",
       "2128  Sherry Katz, LCSWCouples and Family Therapist,...   \n",
       "\n",
       "                                           therapistURL  \\\n",
       "0     https://counselchat.com/therapists/sherry-katz...   \n",
       "1     https://counselchat.com/therapists/robin-landw...   \n",
       "2           https://counselchat.com/therapists/lee-king   \n",
       "3     https://counselchat.com/therapists/shauntai-da...   \n",
       "4       https://counselchat.com/therapists/jordan-white   \n",
       "...                                                 ...   \n",
       "2124   https://counselchat.com/therapists/victoria-haag   \n",
       "2125   https://counselchat.com/therapists/allison-velez   \n",
       "2126     https://counselchat.com/therapists/david-routt   \n",
       "2127  https://counselchat.com/therapists/2nd-chance-...   \n",
       "2128  https://counselchat.com/therapists/sherry-katz...   \n",
       "\n",
       "                                             answerText  upvotes  views  split  \n",
       "0     If everyone thinks you're worthless, then mayb...        1   2899  train  \n",
       "1     Hello, and thank you for your question and see...        1   3514  train  \n",
       "2     First thing I'd suggest is getting the sleep y...        0      5  train  \n",
       "3     Therapy is essential for those that are feelin...        0     31  train  \n",
       "4     I first want to let you know that you are not ...        0    620  train  \n",
       "...                                                 ...      ...    ...    ...  \n",
       "2124  There are probably no two therapists alike bec...        0     45  train  \n",
       "2125  Each counselor may have a different process, s...        0     37  train  \n",
       "2126  After meeting a client, many Counselors will a...        0     56  train  \n",
       "2127  A good therapist will discuss what brought you...        0     27  train  \n",
       "2128  Great question which I imagine many other peop...        0     25  train  \n",
       "\n",
       "[2129 rows x 12 columns]"
      ]
     },
     "execution_count": 2,
     "metadata": {},
     "output_type": "execute_result"
    }
   ],
   "source": [
    "df = pd.read_csv('councel_chat.csv')\n",
    "df"
   ]
  },
  {
   "cell_type": "code",
   "execution_count": 4,
   "metadata": {},
   "outputs": [],
   "source": [
    "df['split'] = df['split'].str.replace(\"val\",\"test\")"
   ]
  },
  {
   "cell_type": "code",
   "execution_count": 5,
   "metadata": {},
   "outputs": [
    {
     "data": {
      "text/plain": [
       "train    1839\n",
       "test      290\n",
       "Name: split, dtype: int64"
      ]
     },
     "execution_count": 5,
     "metadata": {},
     "output_type": "execute_result"
    }
   ],
   "source": [
    "df['split'].value_counts()"
   ]
  },
  {
   "cell_type": "code",
   "execution_count": 6,
   "metadata": {},
   "outputs": [],
   "source": [
    "df_train = df[df['split']==\"train\"]\n",
    "df_test  = df[df['split']==\"test\"]"
   ]
  },
  {
   "cell_type": "markdown",
   "metadata": {},
   "source": [
    "### Getting Data Ready to give T5 in a particular format it needs."
   ]
  },
  {
   "cell_type": "code",
   "execution_count": 7,
   "metadata": {},
   "outputs": [],
   "source": [
    "df_train = df_train[[\"questionText\",\"answerText\"]]\n",
    "df_test = df_test[[\"questionText\",\"answerText\"]]"
   ]
  },
  {
   "cell_type": "code",
   "execution_count": 8,
   "metadata": {},
   "outputs": [],
   "source": [
    "df_train = df_train.rename(columns={\"questionText\":\"source_text\", \"answerText\":\"target_text\"})\n",
    "df_test = df_test.rename(columns={\"questionText\":\"source_text\", \"answerText\":\"target_text\"})"
   ]
  },
  {
   "cell_type": "code",
   "execution_count": 9,
   "metadata": {},
   "outputs": [],
   "source": [
    "df_train['source_text']= \"answer: \" + df_train['source_text']\n",
    "df_test['source_text']= \"answer: \" + df_test['source_text']"
   ]
  },
  {
   "cell_type": "markdown",
   "metadata": {},
   "source": [
    "### Chatot Trained on Collab Link - [Chatbot](https://colab.research.google.com/drive/1qNtDp34MXXhfwDIyG-a7DBt2MqTqyXj_?usp=sharing)"
   ]
  },
  {
   "cell_type": "markdown",
   "metadata": {},
   "source": [
    "### Testing it against custom therapy queries"
   ]
  },
  {
   "cell_type": "code",
   "execution_count": 2,
   "metadata": {},
   "outputs": [
    {
     "data": {
      "text/plain": [
       "[\"I'm sorry to hear that you are feeling this way. Depression can be a very common response to stress, anxiety, and other symptoms. It is important to recognize that depression is not something that happens on a regular basis.\"]"
      ]
     },
     "execution_count": 2,
     "metadata": {},
     "output_type": "execute_result"
    }
   ],
   "source": [
    "from simplet5 import SimpleT5\n",
    " \n",
    "model = SimpleT5()\n",
    " \n",
    "# let's load the trained t5 model for inferencing:\n",
    "model.load_model(\"t5\", \"./iter-2/epoch_8\")\n",
    "# Ask a questin to the model to answer\n",
    "question_to_answer = \" answer: I am always depressed?\"\n",
    "model.predict(question_to_answer)"
   ]
  },
  {
   "cell_type": "code",
   "execution_count": 4,
   "metadata": {},
   "outputs": [
    {
     "data": {
      "text/plain": [
       "['Anxiety, sadness, or stress can be caused by a combination of several factors. One factor is that you are experiencing some type of anxiety related to your physical condition. This may be the result of an imbalance in your physical condition. If you are experiencing these symptoms then it is likely that they are related to other factors as well.']"
      ]
     },
     "execution_count": 4,
     "metadata": {},
     "output_type": "execute_result"
    }
   ],
   "source": [
    "question_to_answer = \" answer: What might be triggering my feelings of anxiety, sadness, or stress?\"\n",
    "model.predict(question_to_answer)"
   ]
  },
  {
   "cell_type": "code",
   "execution_count": 10,
   "metadata": {},
   "outputs": [
    {
     "data": {
      "text/plain": [
       "['It is important to understand that emotions are a natural part of our lives and that they can be handled in ways that make us feel safe, secure, and at ease. Emotional intelligence is one of the most powerful tools we have available to us for managing our emotions. The best way to deal with emotions is to learn how to manage your emotions better.']"
      ]
     },
     "execution_count": 10,
     "metadata": {},
     "output_type": "execute_result"
    }
   ],
   "source": [
    "question_to_answer = \"answer: What coping strategies can I learn to handle my emotions better?\"\n",
    "model.predict(question_to_answer)"
   ]
  },
  {
   "cell_type": "code",
   "execution_count": 11,
   "metadata": {},
   "outputs": [
    {
     "data": {
      "text/plain": [
       "[\"Hello, and thank you for your question. Sleep is a very important part of our daily routine. It's the process of getting used to something that happens when we wake up. Insomnia or oversleeping can be caused by many different factors. I would encourage you to seek out a therapist who specializes in sleep disorders.\"]"
      ]
     },
     "execution_count": 11,
     "metadata": {},
     "output_type": "execute_result"
    }
   ],
   "source": [
    "question_to_answer = \"answer: Can you help me understand why I'm experiencing changes in my sleep patterns (insomnia or oversleeping)?\"\n",
    "model.predict(question_to_answer)"
   ]
  },
  {
   "cell_type": "code",
   "execution_count": 20,
   "metadata": {},
   "outputs": [
    {
     "data": {
      "text/plain": [
       "[\"I'm here to help.\"]"
      ]
     },
     "execution_count": 20,
     "metadata": {},
     "output_type": "execute_result"
    }
   ],
   "source": [
    "question_to_answer = \"answer: I need help?\"\n",
    "model.predict(question_to_answer)"
   ]
  },
  {
   "cell_type": "code",
   "execution_count": 21,
   "metadata": {},
   "outputs": [
    {
     "data": {
      "text/plain": [
       "['Good morning! How are you?']"
      ]
     },
     "execution_count": 21,
     "metadata": {},
     "output_type": "execute_result"
    }
   ],
   "source": [
    "question_to_answer = \"answer: Good morning?\"\n",
    "model.predict(question_to_answer)"
   ]
  },
  {
   "cell_type": "code",
   "execution_count": null,
   "metadata": {},
   "outputs": [],
   "source": []
  }
 ],
 "metadata": {
  "kernelspec": {
   "display_name": "base",
   "language": "python",
   "name": "python3"
  },
  "language_info": {
   "codemirror_mode": {
    "name": "ipython",
    "version": 3
   },
   "file_extension": ".py",
   "mimetype": "text/x-python",
   "name": "python",
   "nbconvert_exporter": "python",
   "pygments_lexer": "ipython3",
   "version": "3.9.13"
  }
 },
 "nbformat": 4,
 "nbformat_minor": 2
}
