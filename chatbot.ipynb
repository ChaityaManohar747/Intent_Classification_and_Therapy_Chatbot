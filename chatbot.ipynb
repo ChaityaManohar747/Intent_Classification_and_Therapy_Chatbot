{
 "cells": [
  {
   "cell_type": "markdown",
   "metadata": {},
   "source": [
    "Importing T5 Transformer to FIne Tune"
   ]
  },
  {
   "cell_type": "code",
   "execution_count": null,
   "metadata": {},
   "outputs": [],
   "source": [
    "import pandas as pd\n",
    "from simplet5 import SimpleT5"
   ]
  },
  {
   "cell_type": "code",
   "execution_count": null,
   "metadata": {},
   "outputs": [],
   "source": [
    "df = pd.read_csv('councel_chat.csv')\n",
    "df"
   ]
  },
  {
   "cell_type": "code",
   "execution_count": null,
   "metadata": {},
   "outputs": [],
   "source": [
    "df['split'] = df['split'].str.replace(\"val\",\"test\")"
   ]
  },
  {
   "cell_type": "code",
   "execution_count": null,
   "metadata": {},
   "outputs": [],
   "source": [
    "df['split'].value_counts()"
   ]
  },
  {
   "cell_type": "code",
   "execution_count": null,
   "metadata": {},
   "outputs": [],
   "source": [
    "df_train = df[df['split']==\"train\"]\n",
    "df_test  = df[df['split']==\"test\"]"
   ]
  },
  {
   "cell_type": "markdown",
   "metadata": {},
   "source": [
    "### Getting Data Ready to give T5 in a particular format it needs."
   ]
  },
  {
   "cell_type": "code",
   "execution_count": null,
   "metadata": {},
   "outputs": [],
   "source": [
    "df_train = df_train[[\"questionText\",\"answerText\"]]\n",
    "df_test = df_test[[\"questionText\",\"answerText\"]]"
   ]
  },
  {
   "cell_type": "code",
   "execution_count": null,
   "metadata": {},
   "outputs": [],
   "source": [
    "df_train = df_train.rename(columns={\"questionText\":\"source_text\", \"answerText\":\"target_text\"})\n",
    "df_test = df_test.rename(columns={\"questionText\":\"source_text\", \"answerText\":\"target_text\"})"
   ]
  },
  {
   "cell_type": "code",
   "execution_count": null,
   "metadata": {},
   "outputs": [],
   "source": [
    "df_train['source_text']= \"answer: \" + df_train['source_text']\n",
    "df_test['source_text']= \"answer: \" + df_test['source_text']"
   ]
  },
  {
   "cell_type": "markdown",
   "metadata": {},
   "source": [
    "### Chatot Trained on Collab Link - [Chatbot](https://colab.research.google.com/drive/1qNtDp34MXXhfwDIyG-a7DBt2MqTqyXj_?usp=sharing)"
   ]
  },
  {
   "cell_type": "markdown",
   "metadata": {},
   "source": [
    "### Testing it against custom therapy queries"
   ]
  },
  {
   "cell_type": "code",
   "execution_count": 1,
   "metadata": {},
   "outputs": [
    {
     "name": "stderr",
     "output_type": "stream",
     "text": [
      "Global seed set to 42\n"
     ]
    },
    {
     "data": {
      "text/plain": [
       "[\"I'm sorry to hear that you are suffering from depression. Depression is a very common symptom of many different types of health problems. Depression can be quite difficult to deal with, especially when it comes to your mood.\"]"
      ]
     },
     "execution_count": 1,
     "metadata": {},
     "output_type": "execute_result"
    }
   ],
   "source": [
    "from simplet5 import SimpleT5\n",
    " \n",
    "model = SimpleT5()\n",
    " \n",
    "# let's load the trained t5 model for inferencing:\n",
    "model.load_model(\"t5\", \"./model/epoch_3\")\n",
    "# Ask a questin to the model to answer\n",
    "question_to_answer = \" I am always depressed ?\"\n",
    "model.predict(question_to_answer)"
   ]
  },
  {
   "cell_type": "code",
   "execution_count": 4,
   "metadata": {},
   "outputs": [
    {
     "data": {
      "text/plain": [
       "[\"Anxiety, sadness, or stress can be triggered by many different factors. It's important to understand that anxiety, sadness, or stress are not the only things that trigger these feelings. In fact, it's possible that you have been feeling\"]"
      ]
     },
     "execution_count": 4,
     "metadata": {},
     "output_type": "execute_result"
    }
   ],
   "source": [
    "question_to_answer = \" What might be triggering my feelings of anxiety, sadness, or stress ?\"\n",
    "model.predict(question_to_answer)"
   ]
  },
  {
   "cell_type": "code",
   "execution_count": 5,
   "metadata": {},
   "outputs": [
    {
     "data": {
      "text/plain": [
       "['It is important to understand that emotions are a natural part of our lives. They can affect us in many different ways, but they can also have their roots in the way we feel and how we react to them. I would suggest that you consider using a']"
      ]
     },
     "execution_count": 5,
     "metadata": {},
     "output_type": "execute_result"
    }
   ],
   "source": [
    "question_to_answer = \"What coping strategies can I learn to handle my emotions better ?\"\n",
    "model.predict(question_to_answer)"
   ]
  },
  {
   "cell_type": "code",
   "execution_count": 6,
   "metadata": {},
   "outputs": [
    {
     "data": {
      "text/plain": [
       "[\"Hello, and thank you for your question. I'm so sorry to hear that you are experiencing this. Sleep is a natural response to stress and anxiety. It can be very difficult to control the intensity of your sleep patterns. Insomnia or oversleeping\"]"
      ]
     },
     "execution_count": 6,
     "metadata": {},
     "output_type": "execute_result"
    }
   ],
   "source": [
    "question_to_answer = \"Can you help me understand why I'm experiencing changes in my sleep patterns (insomnia or oversleeping) ?\"\n",
    "model.predict(question_to_answer)"
   ]
  },
  {
   "cell_type": "code",
   "execution_count": 8,
   "metadata": {},
   "outputs": [
    {
     "data": {
      "text/plain": [
       "['Mental health is a very complex issue. It can be difficult to predict what will happen in the future, but it can be challenging to predict what will happen in the future. I would encourage you to seek out a mental health professional who specializes']"
      ]
     },
     "execution_count": 8,
     "metadata": {},
     "output_type": "execute_result"
    }
   ],
   "source": [
    "question_to_answer = \"What impact does my current mental state have on my daily life and relationships?\"\n",
    "model.predict(question_to_answer)"
   ]
  }
 ],
 "metadata": {
  "kernelspec": {
   "display_name": "base",
   "language": "python",
   "name": "python3"
  },
  "language_info": {
   "codemirror_mode": {
    "name": "ipython",
    "version": 3
   },
   "file_extension": ".py",
   "mimetype": "text/x-python",
   "name": "python",
   "nbconvert_exporter": "python",
   "pygments_lexer": "ipython3",
   "version": "3.9.13"
  }
 },
 "nbformat": 4,
 "nbformat_minor": 2
}
