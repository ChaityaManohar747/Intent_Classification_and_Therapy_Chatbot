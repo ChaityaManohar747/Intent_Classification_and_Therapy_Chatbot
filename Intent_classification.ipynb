{
 "cells": [
  {
   "cell_type": "code",
   "execution_count": 2,
   "metadata": {},
   "outputs": [],
   "source": [
    "import pandas as pd\n",
    "import numpy as np\n",
    "from sklearn.metrics import classification_report,mean_squared_error\n",
    "from sklearn.model_selection import train_test_split\n",
    "from sklearn.preprocessing import LabelEncoder\n",
    "import matplotlib.pyplot as plt\n",
    "import seaborn as sns\n",
    "from sklearn.feature_extraction.text import TfidfVectorizer\n",
    "from sklearn.svm import SVC\n",
    "from sklearn.naive_bayes import MultinomialNB\n",
    "import nltk\n",
    "from nltk.corpus import stopwords\n",
    "import string\n",
    "import re\n",
    "from prettytable import PrettyTable\n",
    "from sklearn.ensemble import RandomForestClassifier"
   ]
  },
  {
   "cell_type": "code",
   "execution_count": 5,
   "metadata": {},
   "outputs": [
    {
     "name": "stderr",
     "output_type": "stream",
     "text": [
      "[nltk_data] Downloading package stopwords to\n",
      "[nltk_data]     C:\\Users\\chait\\AppData\\Roaming\\nltk_data...\n",
      "[nltk_data]   Package stopwords is already up-to-date!\n"
     ]
    },
    {
     "data": {
      "text/plain": [
       "True"
      ]
     },
     "execution_count": 5,
     "metadata": {},
     "output_type": "execute_result"
    }
   ],
   "source": [
    "nltk.download('stopwords')"
   ]
  },
  {
   "cell_type": "code",
   "execution_count": 6,
   "metadata": {},
   "outputs": [
    {
     "data": {
      "text/html": [
       "<div>\n",
       "<style scoped>\n",
       "    .dataframe tbody tr th:only-of-type {\n",
       "        vertical-align: middle;\n",
       "    }\n",
       "\n",
       "    .dataframe tbody tr th {\n",
       "        vertical-align: top;\n",
       "    }\n",
       "\n",
       "    .dataframe thead th {\n",
       "        text-align: right;\n",
       "    }\n",
       "</style>\n",
       "<table border=\"1\" class=\"dataframe\">\n",
       "  <thead>\n",
       "    <tr style=\"text-align: right;\">\n",
       "      <th></th>\n",
       "      <th>Unnamed: 0</th>\n",
       "      <th>questionID</th>\n",
       "      <th>questionTitle</th>\n",
       "      <th>questionText</th>\n",
       "      <th>questionLink</th>\n",
       "      <th>topic</th>\n",
       "      <th>therapistInfo</th>\n",
       "      <th>therapistURL</th>\n",
       "      <th>answerText</th>\n",
       "      <th>upvotes</th>\n",
       "      <th>views</th>\n",
       "      <th>split</th>\n",
       "    </tr>\n",
       "  </thead>\n",
       "  <tbody>\n",
       "    <tr>\n",
       "      <th>0</th>\n",
       "      <td>0</td>\n",
       "      <td>0</td>\n",
       "      <td>Can I change my feeling of being worthless to ...</td>\n",
       "      <td>I'm going through some things with my feelings...</td>\n",
       "      <td>https://counselchat.com/questions/can-i-change...</td>\n",
       "      <td>depression</td>\n",
       "      <td>Sherry Katz, LCSWCouples and Family Therapist,...</td>\n",
       "      <td>https://counselchat.com/therapists/sherry-katz...</td>\n",
       "      <td>If everyone thinks you're worthless, then mayb...</td>\n",
       "      <td>1</td>\n",
       "      <td>2899</td>\n",
       "      <td>train</td>\n",
       "    </tr>\n",
       "    <tr>\n",
       "      <th>1</th>\n",
       "      <td>1</td>\n",
       "      <td>0</td>\n",
       "      <td>Can I change my feeling of being worthless to ...</td>\n",
       "      <td>I'm going through some things with my feelings...</td>\n",
       "      <td>https://counselchat.com/questions/can-i-change...</td>\n",
       "      <td>depression</td>\n",
       "      <td>Robin Landwehr, DBH, LPCC, NCCMental Health in...</td>\n",
       "      <td>https://counselchat.com/therapists/robin-landw...</td>\n",
       "      <td>Hello, and thank you for your question and see...</td>\n",
       "      <td>1</td>\n",
       "      <td>3514</td>\n",
       "      <td>train</td>\n",
       "    </tr>\n",
       "    <tr>\n",
       "      <th>2</th>\n",
       "      <td>2</td>\n",
       "      <td>0</td>\n",
       "      <td>Can I change my feeling of being worthless to ...</td>\n",
       "      <td>I'm going through some things with my feelings...</td>\n",
       "      <td>https://counselchat.com/questions/can-i-change...</td>\n",
       "      <td>depression</td>\n",
       "      <td>Lee KingI use an integrative approach to treat...</td>\n",
       "      <td>https://counselchat.com/therapists/lee-king</td>\n",
       "      <td>First thing I'd suggest is getting the sleep y...</td>\n",
       "      <td>0</td>\n",
       "      <td>5</td>\n",
       "      <td>train</td>\n",
       "    </tr>\n",
       "    <tr>\n",
       "      <th>3</th>\n",
       "      <td>3</td>\n",
       "      <td>0</td>\n",
       "      <td>Can I change my feeling of being worthless to ...</td>\n",
       "      <td>I'm going through some things with my feelings...</td>\n",
       "      <td>https://counselchat.com/questions/can-i-change...</td>\n",
       "      <td>depression</td>\n",
       "      <td>Shauntai Davis-YearginPersonalized, private on...</td>\n",
       "      <td>https://counselchat.com/therapists/shauntai-da...</td>\n",
       "      <td>Therapy is essential for those that are feelin...</td>\n",
       "      <td>0</td>\n",
       "      <td>31</td>\n",
       "      <td>train</td>\n",
       "    </tr>\n",
       "    <tr>\n",
       "      <th>4</th>\n",
       "      <td>4</td>\n",
       "      <td>0</td>\n",
       "      <td>Can I change my feeling of being worthless to ...</td>\n",
       "      <td>I'm going through some things with my feelings...</td>\n",
       "      <td>https://counselchat.com/questions/can-i-change...</td>\n",
       "      <td>depression</td>\n",
       "      <td>Jordan WhiteLicensed Social Worker at Oak Root...</td>\n",
       "      <td>https://counselchat.com/therapists/jordan-white</td>\n",
       "      <td>I first want to let you know that you are not ...</td>\n",
       "      <td>0</td>\n",
       "      <td>620</td>\n",
       "      <td>train</td>\n",
       "    </tr>\n",
       "    <tr>\n",
       "      <th>...</th>\n",
       "      <td>...</td>\n",
       "      <td>...</td>\n",
       "      <td>...</td>\n",
       "      <td>...</td>\n",
       "      <td>...</td>\n",
       "      <td>...</td>\n",
       "      <td>...</td>\n",
       "      <td>...</td>\n",
       "      <td>...</td>\n",
       "      <td>...</td>\n",
       "      <td>...</td>\n",
       "      <td>...</td>\n",
       "    </tr>\n",
       "    <tr>\n",
       "      <th>2124</th>\n",
       "      <td>2124</td>\n",
       "      <td>20</td>\n",
       "      <td>What happens in a counseling session?</td>\n",
       "      <td>After first meeting the client, what is the pr...</td>\n",
       "      <td>https://counselchat.com/questions/what-happens...</td>\n",
       "      <td>counseling-fundamentals</td>\n",
       "      <td>Victoria HaagFind direction for your life...</td>\n",
       "      <td>https://counselchat.com/therapists/victoria-haag</td>\n",
       "      <td>There are probably no two therapists alike bec...</td>\n",
       "      <td>0</td>\n",
       "      <td>45</td>\n",
       "      <td>train</td>\n",
       "    </tr>\n",
       "    <tr>\n",
       "      <th>2125</th>\n",
       "      <td>2125</td>\n",
       "      <td>20</td>\n",
       "      <td>What happens in a counseling session?</td>\n",
       "      <td>After first meeting the client, what is the pr...</td>\n",
       "      <td>https://counselchat.com/questions/what-happens...</td>\n",
       "      <td>counseling-fundamentals</td>\n",
       "      <td>Allison VelezIs your relationship worth it?</td>\n",
       "      <td>https://counselchat.com/therapists/allison-velez</td>\n",
       "      <td>Each counselor may have a different process, s...</td>\n",
       "      <td>0</td>\n",
       "      <td>37</td>\n",
       "      <td>train</td>\n",
       "    </tr>\n",
       "    <tr>\n",
       "      <th>2126</th>\n",
       "      <td>2126</td>\n",
       "      <td>20</td>\n",
       "      <td>What happens in a counseling session?</td>\n",
       "      <td>After first meeting the client, what is the pr...</td>\n",
       "      <td>https://counselchat.com/questions/what-happens...</td>\n",
       "      <td>counseling-fundamentals</td>\n",
       "      <td>David RouttPresident and Clinical Counselor at...</td>\n",
       "      <td>https://counselchat.com/therapists/david-routt</td>\n",
       "      <td>After meeting a client, many Counselors will a...</td>\n",
       "      <td>0</td>\n",
       "      <td>56</td>\n",
       "      <td>train</td>\n",
       "    </tr>\n",
       "    <tr>\n",
       "      <th>2127</th>\n",
       "      <td>2127</td>\n",
       "      <td>20</td>\n",
       "      <td>What happens in a counseling session?</td>\n",
       "      <td>After first meeting the client, what is the pr...</td>\n",
       "      <td>https://counselchat.com/questions/what-happens...</td>\n",
       "      <td>counseling-fundamentals</td>\n",
       "      <td>2nd Chance Counseling Service Online Addiction...</td>\n",
       "      <td>https://counselchat.com/therapists/2nd-chance-...</td>\n",
       "      <td>A good therapist will discuss what brought you...</td>\n",
       "      <td>0</td>\n",
       "      <td>27</td>\n",
       "      <td>train</td>\n",
       "    </tr>\n",
       "    <tr>\n",
       "      <th>2128</th>\n",
       "      <td>2128</td>\n",
       "      <td>20</td>\n",
       "      <td>What happens in a counseling session?</td>\n",
       "      <td>After first meeting the client, what is the pr...</td>\n",
       "      <td>https://counselchat.com/questions/what-happens...</td>\n",
       "      <td>counseling-fundamentals</td>\n",
       "      <td>Sherry Katz, LCSWCouples and Family Therapist,...</td>\n",
       "      <td>https://counselchat.com/therapists/sherry-katz...</td>\n",
       "      <td>Great question which I imagine many other peop...</td>\n",
       "      <td>0</td>\n",
       "      <td>25</td>\n",
       "      <td>train</td>\n",
       "    </tr>\n",
       "  </tbody>\n",
       "</table>\n",
       "<p>2129 rows × 12 columns</p>\n",
       "</div>"
      ],
      "text/plain": [
       "      Unnamed: 0  questionID  \\\n",
       "0              0           0   \n",
       "1              1           0   \n",
       "2              2           0   \n",
       "3              3           0   \n",
       "4              4           0   \n",
       "...          ...         ...   \n",
       "2124        2124          20   \n",
       "2125        2125          20   \n",
       "2126        2126          20   \n",
       "2127        2127          20   \n",
       "2128        2128          20   \n",
       "\n",
       "                                          questionTitle  \\\n",
       "0     Can I change my feeling of being worthless to ...   \n",
       "1     Can I change my feeling of being worthless to ...   \n",
       "2     Can I change my feeling of being worthless to ...   \n",
       "3     Can I change my feeling of being worthless to ...   \n",
       "4     Can I change my feeling of being worthless to ...   \n",
       "...                                                 ...   \n",
       "2124              What happens in a counseling session?   \n",
       "2125              What happens in a counseling session?   \n",
       "2126              What happens in a counseling session?   \n",
       "2127              What happens in a counseling session?   \n",
       "2128              What happens in a counseling session?   \n",
       "\n",
       "                                           questionText  \\\n",
       "0     I'm going through some things with my feelings...   \n",
       "1     I'm going through some things with my feelings...   \n",
       "2     I'm going through some things with my feelings...   \n",
       "3     I'm going through some things with my feelings...   \n",
       "4     I'm going through some things with my feelings...   \n",
       "...                                                 ...   \n",
       "2124  After first meeting the client, what is the pr...   \n",
       "2125  After first meeting the client, what is the pr...   \n",
       "2126  After first meeting the client, what is the pr...   \n",
       "2127  After first meeting the client, what is the pr...   \n",
       "2128  After first meeting the client, what is the pr...   \n",
       "\n",
       "                                           questionLink  \\\n",
       "0     https://counselchat.com/questions/can-i-change...   \n",
       "1     https://counselchat.com/questions/can-i-change...   \n",
       "2     https://counselchat.com/questions/can-i-change...   \n",
       "3     https://counselchat.com/questions/can-i-change...   \n",
       "4     https://counselchat.com/questions/can-i-change...   \n",
       "...                                                 ...   \n",
       "2124  https://counselchat.com/questions/what-happens...   \n",
       "2125  https://counselchat.com/questions/what-happens...   \n",
       "2126  https://counselchat.com/questions/what-happens...   \n",
       "2127  https://counselchat.com/questions/what-happens...   \n",
       "2128  https://counselchat.com/questions/what-happens...   \n",
       "\n",
       "                        topic  \\\n",
       "0                  depression   \n",
       "1                  depression   \n",
       "2                  depression   \n",
       "3                  depression   \n",
       "4                  depression   \n",
       "...                       ...   \n",
       "2124  counseling-fundamentals   \n",
       "2125  counseling-fundamentals   \n",
       "2126  counseling-fundamentals   \n",
       "2127  counseling-fundamentals   \n",
       "2128  counseling-fundamentals   \n",
       "\n",
       "                                          therapistInfo  \\\n",
       "0     Sherry Katz, LCSWCouples and Family Therapist,...   \n",
       "1     Robin Landwehr, DBH, LPCC, NCCMental Health in...   \n",
       "2     Lee KingI use an integrative approach to treat...   \n",
       "3     Shauntai Davis-YearginPersonalized, private on...   \n",
       "4     Jordan WhiteLicensed Social Worker at Oak Root...   \n",
       "...                                                 ...   \n",
       "2124       Victoria HaagFind direction for your life...   \n",
       "2125        Allison VelezIs your relationship worth it?   \n",
       "2126  David RouttPresident and Clinical Counselor at...   \n",
       "2127  2nd Chance Counseling Service Online Addiction...   \n",
       "2128  Sherry Katz, LCSWCouples and Family Therapist,...   \n",
       "\n",
       "                                           therapistURL  \\\n",
       "0     https://counselchat.com/therapists/sherry-katz...   \n",
       "1     https://counselchat.com/therapists/robin-landw...   \n",
       "2           https://counselchat.com/therapists/lee-king   \n",
       "3     https://counselchat.com/therapists/shauntai-da...   \n",
       "4       https://counselchat.com/therapists/jordan-white   \n",
       "...                                                 ...   \n",
       "2124   https://counselchat.com/therapists/victoria-haag   \n",
       "2125   https://counselchat.com/therapists/allison-velez   \n",
       "2126     https://counselchat.com/therapists/david-routt   \n",
       "2127  https://counselchat.com/therapists/2nd-chance-...   \n",
       "2128  https://counselchat.com/therapists/sherry-katz...   \n",
       "\n",
       "                                             answerText  upvotes  views  split  \n",
       "0     If everyone thinks you're worthless, then mayb...        1   2899  train  \n",
       "1     Hello, and thank you for your question and see...        1   3514  train  \n",
       "2     First thing I'd suggest is getting the sleep y...        0      5  train  \n",
       "3     Therapy is essential for those that are feelin...        0     31  train  \n",
       "4     I first want to let you know that you are not ...        0    620  train  \n",
       "...                                                 ...      ...    ...    ...  \n",
       "2124  There are probably no two therapists alike bec...        0     45  train  \n",
       "2125  Each counselor may have a different process, s...        0     37  train  \n",
       "2126  After meeting a client, many Counselors will a...        0     56  train  \n",
       "2127  A good therapist will discuss what brought you...        0     27  train  \n",
       "2128  Great question which I imagine many other peop...        0     25  train  \n",
       "\n",
       "[2129 rows x 12 columns]"
      ]
     },
     "execution_count": 6,
     "metadata": {},
     "output_type": "execute_result"
    }
   ],
   "source": [
    "df = pd.read_csv('councel_chat.csv')\n",
    "df"
   ]
  },
  {
   "cell_type": "markdown",
   "metadata": {},
   "source": [
    "### Excluding Unnecessay Categories to improve accuracy due to limited chats availaible for following categories"
   ]
  },
  {
   "cell_type": "code",
   "execution_count": 7,
   "metadata": {},
   "outputs": [],
   "source": [
    "excluded_categories = ['grief-and-loss', 'self-harm', 'sleep-improvement', 'eating-disorders', \n",
    "                      'legal-regulatory', 'stress', 'children-adolescents', 'addiction', 'human-sexuality', \n",
    "                      'military-issues']"
   ]
  },
  {
   "cell_type": "code",
   "execution_count": 8,
   "metadata": {},
   "outputs": [],
   "source": [
    "df = df[~df['topic'].isin(excluded_categories)].reset_index()"
   ]
  },
  {
   "cell_type": "code",
   "execution_count": 9,
   "metadata": {},
   "outputs": [
    {
     "data": {
      "text/plain": [
       "0       I'm going through some things with my feelings...\n",
       "1       I'm going through some things with my feelings...\n",
       "2       I'm going through some things with my feelings...\n",
       "3       I'm going through some things with my feelings...\n",
       "4       I'm going through some things with my feelings...\n",
       "                              ...                        \n",
       "2042    After first meeting the client, what is the pr...\n",
       "2043    After first meeting the client, what is the pr...\n",
       "2044    After first meeting the client, what is the pr...\n",
       "2045    After first meeting the client, what is the pr...\n",
       "2046    After first meeting the client, what is the pr...\n",
       "Name: questionText, Length: 2047, dtype: object"
      ]
     },
     "execution_count": 9,
     "metadata": {},
     "output_type": "execute_result"
    }
   ],
   "source": [
    "df['questionText']"
   ]
  },
  {
   "cell_type": "code",
   "execution_count": 10,
   "metadata": {},
   "outputs": [
    {
     "data": {
      "text/html": [
       "<div>\n",
       "<style scoped>\n",
       "    .dataframe tbody tr th:only-of-type {\n",
       "        vertical-align: middle;\n",
       "    }\n",
       "\n",
       "    .dataframe tbody tr th {\n",
       "        vertical-align: top;\n",
       "    }\n",
       "\n",
       "    .dataframe thead th {\n",
       "        text-align: right;\n",
       "    }\n",
       "</style>\n",
       "<table border=\"1\" class=\"dataframe\">\n",
       "  <thead>\n",
       "    <tr style=\"text-align: right;\">\n",
       "      <th></th>\n",
       "      <th>index</th>\n",
       "      <th>Unnamed: 0</th>\n",
       "      <th>questionID</th>\n",
       "      <th>questionTitle</th>\n",
       "      <th>questionText</th>\n",
       "      <th>questionLink</th>\n",
       "      <th>topic</th>\n",
       "      <th>therapistInfo</th>\n",
       "      <th>therapistURL</th>\n",
       "      <th>answerText</th>\n",
       "      <th>upvotes</th>\n",
       "      <th>views</th>\n",
       "      <th>split</th>\n",
       "    </tr>\n",
       "  </thead>\n",
       "  <tbody>\n",
       "    <tr>\n",
       "      <th>0</th>\n",
       "      <td>0</td>\n",
       "      <td>0</td>\n",
       "      <td>0</td>\n",
       "      <td>Can I change my feeling of being worthless to ...</td>\n",
       "      <td>I'm going through some things with my feelings...</td>\n",
       "      <td>https://counselchat.com/questions/can-i-change...</td>\n",
       "      <td>depression</td>\n",
       "      <td>Sherry Katz, LCSWCouples and Family Therapist,...</td>\n",
       "      <td>https://counselchat.com/therapists/sherry-katz...</td>\n",
       "      <td>If everyone thinks you're worthless, then mayb...</td>\n",
       "      <td>1</td>\n",
       "      <td>2899</td>\n",
       "      <td>train</td>\n",
       "    </tr>\n",
       "    <tr>\n",
       "      <th>1</th>\n",
       "      <td>1</td>\n",
       "      <td>1</td>\n",
       "      <td>0</td>\n",
       "      <td>Can I change my feeling of being worthless to ...</td>\n",
       "      <td>I'm going through some things with my feelings...</td>\n",
       "      <td>https://counselchat.com/questions/can-i-change...</td>\n",
       "      <td>depression</td>\n",
       "      <td>Robin Landwehr, DBH, LPCC, NCCMental Health in...</td>\n",
       "      <td>https://counselchat.com/therapists/robin-landw...</td>\n",
       "      <td>Hello, and thank you for your question and see...</td>\n",
       "      <td>1</td>\n",
       "      <td>3514</td>\n",
       "      <td>train</td>\n",
       "    </tr>\n",
       "    <tr>\n",
       "      <th>2</th>\n",
       "      <td>2</td>\n",
       "      <td>2</td>\n",
       "      <td>0</td>\n",
       "      <td>Can I change my feeling of being worthless to ...</td>\n",
       "      <td>I'm going through some things with my feelings...</td>\n",
       "      <td>https://counselchat.com/questions/can-i-change...</td>\n",
       "      <td>depression</td>\n",
       "      <td>Lee KingI use an integrative approach to treat...</td>\n",
       "      <td>https://counselchat.com/therapists/lee-king</td>\n",
       "      <td>First thing I'd suggest is getting the sleep y...</td>\n",
       "      <td>0</td>\n",
       "      <td>5</td>\n",
       "      <td>train</td>\n",
       "    </tr>\n",
       "    <tr>\n",
       "      <th>3</th>\n",
       "      <td>3</td>\n",
       "      <td>3</td>\n",
       "      <td>0</td>\n",
       "      <td>Can I change my feeling of being worthless to ...</td>\n",
       "      <td>I'm going through some things with my feelings...</td>\n",
       "      <td>https://counselchat.com/questions/can-i-change...</td>\n",
       "      <td>depression</td>\n",
       "      <td>Shauntai Davis-YearginPersonalized, private on...</td>\n",
       "      <td>https://counselchat.com/therapists/shauntai-da...</td>\n",
       "      <td>Therapy is essential for those that are feelin...</td>\n",
       "      <td>0</td>\n",
       "      <td>31</td>\n",
       "      <td>train</td>\n",
       "    </tr>\n",
       "    <tr>\n",
       "      <th>4</th>\n",
       "      <td>4</td>\n",
       "      <td>4</td>\n",
       "      <td>0</td>\n",
       "      <td>Can I change my feeling of being worthless to ...</td>\n",
       "      <td>I'm going through some things with my feelings...</td>\n",
       "      <td>https://counselchat.com/questions/can-i-change...</td>\n",
       "      <td>depression</td>\n",
       "      <td>Jordan WhiteLicensed Social Worker at Oak Root...</td>\n",
       "      <td>https://counselchat.com/therapists/jordan-white</td>\n",
       "      <td>I first want to let you know that you are not ...</td>\n",
       "      <td>0</td>\n",
       "      <td>620</td>\n",
       "      <td>train</td>\n",
       "    </tr>\n",
       "    <tr>\n",
       "      <th>...</th>\n",
       "      <td>...</td>\n",
       "      <td>...</td>\n",
       "      <td>...</td>\n",
       "      <td>...</td>\n",
       "      <td>...</td>\n",
       "      <td>...</td>\n",
       "      <td>...</td>\n",
       "      <td>...</td>\n",
       "      <td>...</td>\n",
       "      <td>...</td>\n",
       "      <td>...</td>\n",
       "      <td>...</td>\n",
       "      <td>...</td>\n",
       "    </tr>\n",
       "    <tr>\n",
       "      <th>2042</th>\n",
       "      <td>2124</td>\n",
       "      <td>2124</td>\n",
       "      <td>20</td>\n",
       "      <td>What happens in a counseling session?</td>\n",
       "      <td>After first meeting the client, what is the pr...</td>\n",
       "      <td>https://counselchat.com/questions/what-happens...</td>\n",
       "      <td>counseling-fundamentals</td>\n",
       "      <td>Victoria HaagFind direction for your life...</td>\n",
       "      <td>https://counselchat.com/therapists/victoria-haag</td>\n",
       "      <td>There are probably no two therapists alike bec...</td>\n",
       "      <td>0</td>\n",
       "      <td>45</td>\n",
       "      <td>train</td>\n",
       "    </tr>\n",
       "    <tr>\n",
       "      <th>2043</th>\n",
       "      <td>2125</td>\n",
       "      <td>2125</td>\n",
       "      <td>20</td>\n",
       "      <td>What happens in a counseling session?</td>\n",
       "      <td>After first meeting the client, what is the pr...</td>\n",
       "      <td>https://counselchat.com/questions/what-happens...</td>\n",
       "      <td>counseling-fundamentals</td>\n",
       "      <td>Allison VelezIs your relationship worth it?</td>\n",
       "      <td>https://counselchat.com/therapists/allison-velez</td>\n",
       "      <td>Each counselor may have a different process, s...</td>\n",
       "      <td>0</td>\n",
       "      <td>37</td>\n",
       "      <td>train</td>\n",
       "    </tr>\n",
       "    <tr>\n",
       "      <th>2044</th>\n",
       "      <td>2126</td>\n",
       "      <td>2126</td>\n",
       "      <td>20</td>\n",
       "      <td>What happens in a counseling session?</td>\n",
       "      <td>After first meeting the client, what is the pr...</td>\n",
       "      <td>https://counselchat.com/questions/what-happens...</td>\n",
       "      <td>counseling-fundamentals</td>\n",
       "      <td>David RouttPresident and Clinical Counselor at...</td>\n",
       "      <td>https://counselchat.com/therapists/david-routt</td>\n",
       "      <td>After meeting a client, many Counselors will a...</td>\n",
       "      <td>0</td>\n",
       "      <td>56</td>\n",
       "      <td>train</td>\n",
       "    </tr>\n",
       "    <tr>\n",
       "      <th>2045</th>\n",
       "      <td>2127</td>\n",
       "      <td>2127</td>\n",
       "      <td>20</td>\n",
       "      <td>What happens in a counseling session?</td>\n",
       "      <td>After first meeting the client, what is the pr...</td>\n",
       "      <td>https://counselchat.com/questions/what-happens...</td>\n",
       "      <td>counseling-fundamentals</td>\n",
       "      <td>2nd Chance Counseling Service Online Addiction...</td>\n",
       "      <td>https://counselchat.com/therapists/2nd-chance-...</td>\n",
       "      <td>A good therapist will discuss what brought you...</td>\n",
       "      <td>0</td>\n",
       "      <td>27</td>\n",
       "      <td>train</td>\n",
       "    </tr>\n",
       "    <tr>\n",
       "      <th>2046</th>\n",
       "      <td>2128</td>\n",
       "      <td>2128</td>\n",
       "      <td>20</td>\n",
       "      <td>What happens in a counseling session?</td>\n",
       "      <td>After first meeting the client, what is the pr...</td>\n",
       "      <td>https://counselchat.com/questions/what-happens...</td>\n",
       "      <td>counseling-fundamentals</td>\n",
       "      <td>Sherry Katz, LCSWCouples and Family Therapist,...</td>\n",
       "      <td>https://counselchat.com/therapists/sherry-katz...</td>\n",
       "      <td>Great question which I imagine many other peop...</td>\n",
       "      <td>0</td>\n",
       "      <td>25</td>\n",
       "      <td>train</td>\n",
       "    </tr>\n",
       "  </tbody>\n",
       "</table>\n",
       "<p>2047 rows × 13 columns</p>\n",
       "</div>"
      ],
      "text/plain": [
       "      index  Unnamed: 0  questionID  \\\n",
       "0         0           0           0   \n",
       "1         1           1           0   \n",
       "2         2           2           0   \n",
       "3         3           3           0   \n",
       "4         4           4           0   \n",
       "...     ...         ...         ...   \n",
       "2042   2124        2124          20   \n",
       "2043   2125        2125          20   \n",
       "2044   2126        2126          20   \n",
       "2045   2127        2127          20   \n",
       "2046   2128        2128          20   \n",
       "\n",
       "                                          questionTitle  \\\n",
       "0     Can I change my feeling of being worthless to ...   \n",
       "1     Can I change my feeling of being worthless to ...   \n",
       "2     Can I change my feeling of being worthless to ...   \n",
       "3     Can I change my feeling of being worthless to ...   \n",
       "4     Can I change my feeling of being worthless to ...   \n",
       "...                                                 ...   \n",
       "2042              What happens in a counseling session?   \n",
       "2043              What happens in a counseling session?   \n",
       "2044              What happens in a counseling session?   \n",
       "2045              What happens in a counseling session?   \n",
       "2046              What happens in a counseling session?   \n",
       "\n",
       "                                           questionText  \\\n",
       "0     I'm going through some things with my feelings...   \n",
       "1     I'm going through some things with my feelings...   \n",
       "2     I'm going through some things with my feelings...   \n",
       "3     I'm going through some things with my feelings...   \n",
       "4     I'm going through some things with my feelings...   \n",
       "...                                                 ...   \n",
       "2042  After first meeting the client, what is the pr...   \n",
       "2043  After first meeting the client, what is the pr...   \n",
       "2044  After first meeting the client, what is the pr...   \n",
       "2045  After first meeting the client, what is the pr...   \n",
       "2046  After first meeting the client, what is the pr...   \n",
       "\n",
       "                                           questionLink  \\\n",
       "0     https://counselchat.com/questions/can-i-change...   \n",
       "1     https://counselchat.com/questions/can-i-change...   \n",
       "2     https://counselchat.com/questions/can-i-change...   \n",
       "3     https://counselchat.com/questions/can-i-change...   \n",
       "4     https://counselchat.com/questions/can-i-change...   \n",
       "...                                                 ...   \n",
       "2042  https://counselchat.com/questions/what-happens...   \n",
       "2043  https://counselchat.com/questions/what-happens...   \n",
       "2044  https://counselchat.com/questions/what-happens...   \n",
       "2045  https://counselchat.com/questions/what-happens...   \n",
       "2046  https://counselchat.com/questions/what-happens...   \n",
       "\n",
       "                        topic  \\\n",
       "0                  depression   \n",
       "1                  depression   \n",
       "2                  depression   \n",
       "3                  depression   \n",
       "4                  depression   \n",
       "...                       ...   \n",
       "2042  counseling-fundamentals   \n",
       "2043  counseling-fundamentals   \n",
       "2044  counseling-fundamentals   \n",
       "2045  counseling-fundamentals   \n",
       "2046  counseling-fundamentals   \n",
       "\n",
       "                                          therapistInfo  \\\n",
       "0     Sherry Katz, LCSWCouples and Family Therapist,...   \n",
       "1     Robin Landwehr, DBH, LPCC, NCCMental Health in...   \n",
       "2     Lee KingI use an integrative approach to treat...   \n",
       "3     Shauntai Davis-YearginPersonalized, private on...   \n",
       "4     Jordan WhiteLicensed Social Worker at Oak Root...   \n",
       "...                                                 ...   \n",
       "2042       Victoria HaagFind direction for your life...   \n",
       "2043        Allison VelezIs your relationship worth it?   \n",
       "2044  David RouttPresident and Clinical Counselor at...   \n",
       "2045  2nd Chance Counseling Service Online Addiction...   \n",
       "2046  Sherry Katz, LCSWCouples and Family Therapist,...   \n",
       "\n",
       "                                           therapistURL  \\\n",
       "0     https://counselchat.com/therapists/sherry-katz...   \n",
       "1     https://counselchat.com/therapists/robin-landw...   \n",
       "2           https://counselchat.com/therapists/lee-king   \n",
       "3     https://counselchat.com/therapists/shauntai-da...   \n",
       "4       https://counselchat.com/therapists/jordan-white   \n",
       "...                                                 ...   \n",
       "2042   https://counselchat.com/therapists/victoria-haag   \n",
       "2043   https://counselchat.com/therapists/allison-velez   \n",
       "2044     https://counselchat.com/therapists/david-routt   \n",
       "2045  https://counselchat.com/therapists/2nd-chance-...   \n",
       "2046  https://counselchat.com/therapists/sherry-katz...   \n",
       "\n",
       "                                             answerText  upvotes  views  split  \n",
       "0     If everyone thinks you're worthless, then mayb...        1   2899  train  \n",
       "1     Hello, and thank you for your question and see...        1   3514  train  \n",
       "2     First thing I'd suggest is getting the sleep y...        0      5  train  \n",
       "3     Therapy is essential for those that are feelin...        0     31  train  \n",
       "4     I first want to let you know that you are not ...        0    620  train  \n",
       "...                                                 ...      ...    ...    ...  \n",
       "2042  There are probably no two therapists alike bec...        0     45  train  \n",
       "2043  Each counselor may have a different process, s...        0     37  train  \n",
       "2044  After meeting a client, many Counselors will a...        0     56  train  \n",
       "2045  A good therapist will discuss what brought you...        0     27  train  \n",
       "2046  Great question which I imagine many other peop...        0     25  train  \n",
       "\n",
       "[2047 rows x 13 columns]"
      ]
     },
     "execution_count": 10,
     "metadata": {},
     "output_type": "execute_result"
    }
   ],
   "source": [
    "df"
   ]
  },
  {
   "cell_type": "code",
   "execution_count": 11,
   "metadata": {},
   "outputs": [],
   "source": [
    "drop_cols = ['Unnamed: 0','questionID','questionLink','therapistInfo','therapistURL','upvotes','views']\n"
   ]
  },
  {
   "cell_type": "code",
   "execution_count": 12,
   "metadata": {},
   "outputs": [],
   "source": [
    "df = df.drop(columns=drop_cols)\n"
   ]
  },
  {
   "cell_type": "markdown",
   "metadata": {},
   "source": [
    "### Plotting Intent wise chats in Dataset"
   ]
  },
  {
   "cell_type": "code",
   "execution_count": 13,
   "metadata": {},
   "outputs": [
    {
     "data": {
      "text/html": [
       "<div>\n",
       "<style scoped>\n",
       "    .dataframe tbody tr th:only-of-type {\n",
       "        vertical-align: middle;\n",
       "    }\n",
       "\n",
       "    .dataframe tbody tr th {\n",
       "        vertical-align: top;\n",
       "    }\n",
       "\n",
       "    .dataframe thead th {\n",
       "        text-align: right;\n",
       "    }\n",
       "</style>\n",
       "<table border=\"1\" class=\"dataframe\">\n",
       "  <thead>\n",
       "    <tr style=\"text-align: right;\">\n",
       "      <th></th>\n",
       "      <th>Intent</th>\n",
       "      <th>Count of Occurences</th>\n",
       "    </tr>\n",
       "  </thead>\n",
       "  <tbody>\n",
       "    <tr>\n",
       "      <th>0</th>\n",
       "      <td>depression</td>\n",
       "      <td>330</td>\n",
       "    </tr>\n",
       "    <tr>\n",
       "      <th>1</th>\n",
       "      <td>anxiety</td>\n",
       "      <td>249</td>\n",
       "    </tr>\n",
       "    <tr>\n",
       "      <th>2</th>\n",
       "      <td>counseling-fundamentals</td>\n",
       "      <td>240</td>\n",
       "    </tr>\n",
       "    <tr>\n",
       "      <th>3</th>\n",
       "      <td>intimacy</td>\n",
       "      <td>205</td>\n",
       "    </tr>\n",
       "    <tr>\n",
       "      <th>4</th>\n",
       "      <td>relationships</td>\n",
       "      <td>174</td>\n",
       "    </tr>\n",
       "    <tr>\n",
       "      <th>5</th>\n",
       "      <td>parenting</td>\n",
       "      <td>145</td>\n",
       "    </tr>\n",
       "    <tr>\n",
       "      <th>6</th>\n",
       "      <td>family-conflict</td>\n",
       "      <td>116</td>\n",
       "    </tr>\n",
       "    <tr>\n",
       "      <th>7</th>\n",
       "      <td>self-esteem</td>\n",
       "      <td>83</td>\n",
       "    </tr>\n",
       "    <tr>\n",
       "      <th>8</th>\n",
       "      <td>relationship-dissolution</td>\n",
       "      <td>76</td>\n",
       "    </tr>\n",
       "    <tr>\n",
       "      <th>9</th>\n",
       "      <td>trauma</td>\n",
       "      <td>66</td>\n",
       "    </tr>\n",
       "    <tr>\n",
       "      <th>10</th>\n",
       "      <td>behavioral-change</td>\n",
       "      <td>51</td>\n",
       "    </tr>\n",
       "    <tr>\n",
       "      <th>11</th>\n",
       "      <td>marriage</td>\n",
       "      <td>46</td>\n",
       "    </tr>\n",
       "    <tr>\n",
       "      <th>12</th>\n",
       "      <td>anger-management</td>\n",
       "      <td>38</td>\n",
       "    </tr>\n",
       "    <tr>\n",
       "      <th>13</th>\n",
       "      <td>lgbtq</td>\n",
       "      <td>38</td>\n",
       "    </tr>\n",
       "    <tr>\n",
       "      <th>14</th>\n",
       "      <td>substance-abuse</td>\n",
       "      <td>35</td>\n",
       "    </tr>\n",
       "    <tr>\n",
       "      <th>15</th>\n",
       "      <td>spirituality</td>\n",
       "      <td>34</td>\n",
       "    </tr>\n",
       "    <tr>\n",
       "      <th>16</th>\n",
       "      <td>professional-ethics</td>\n",
       "      <td>32</td>\n",
       "    </tr>\n",
       "    <tr>\n",
       "      <th>17</th>\n",
       "      <td>workplace-relationships</td>\n",
       "      <td>26</td>\n",
       "    </tr>\n",
       "    <tr>\n",
       "      <th>18</th>\n",
       "      <td>diagnosis</td>\n",
       "      <td>22</td>\n",
       "    </tr>\n",
       "    <tr>\n",
       "      <th>19</th>\n",
       "      <td>domestic-violence</td>\n",
       "      <td>21</td>\n",
       "    </tr>\n",
       "    <tr>\n",
       "      <th>20</th>\n",
       "      <td>social-relationships</td>\n",
       "      <td>20</td>\n",
       "    </tr>\n",
       "  </tbody>\n",
       "</table>\n",
       "</div>"
      ],
      "text/plain": [
       "                      Intent  Count of Occurences\n",
       "0                 depression                  330\n",
       "1                    anxiety                  249\n",
       "2    counseling-fundamentals                  240\n",
       "3                   intimacy                  205\n",
       "4              relationships                  174\n",
       "5                  parenting                  145\n",
       "6            family-conflict                  116\n",
       "7                self-esteem                   83\n",
       "8   relationship-dissolution                   76\n",
       "9                     trauma                   66\n",
       "10         behavioral-change                   51\n",
       "11                  marriage                   46\n",
       "12          anger-management                   38\n",
       "13                     lgbtq                   38\n",
       "14           substance-abuse                   35\n",
       "15              spirituality                   34\n",
       "16       professional-ethics                   32\n",
       "17   workplace-relationships                   26\n",
       "18                 diagnosis                   22\n",
       "19         domestic-violence                   21\n",
       "20      social-relationships                   20"
      ]
     },
     "execution_count": 13,
     "metadata": {},
     "output_type": "execute_result"
    }
   ],
   "source": [
    "topic_count = df['topic'].value_counts().reset_index()\n",
    "topic_count.columns = ['Intent','Count of Occurences']\n",
    "topic_count"
   ]
  },
  {
   "cell_type": "code",
   "execution_count": 14,
   "metadata": {},
   "outputs": [
    {
     "data": {
      "text/plain": [
       "[]"
      ]
     },
     "execution_count": 14,
     "metadata": {},
     "output_type": "execute_result"
    },
    {
     "data": {
      "image/png": "[encoded data removed]",
      "text/plain": [
       "<Figure size 1000x800 with 1 Axes>"
      ]
     },
     "metadata": {},
     "output_type": "display_data"
    }
   ],
   "source": [
    "plt.figure(figsize=(10,8))\n",
    "sns.barplot(data=topic_count,y=topic_count['Intent'],x=topic_count['Count of Occurences'])\n",
    "plt.plot()"
   ]
  },
  {
   "cell_type": "code",
   "execution_count": 15,
   "metadata": {},
   "outputs": [],
   "source": [
    "df['topic'] = df['topic'].astype('category')"
   ]
  },
  {
   "cell_type": "code",
   "execution_count": 16,
   "metadata": {},
   "outputs": [
    {
     "data": {
      "text/plain": [
       "0                    depression\n",
       "1                    depression\n",
       "2                    depression\n",
       "3                    depression\n",
       "4                    depression\n",
       "                 ...           \n",
       "2042    counseling-fundamentals\n",
       "2043    counseling-fundamentals\n",
       "2044    counseling-fundamentals\n",
       "2045    counseling-fundamentals\n",
       "2046    counseling-fundamentals\n",
       "Name: topic, Length: 2047, dtype: category\n",
       "Categories (21, object): ['anger-management', 'anxiety', 'behavioral-change', 'counseling-fundamentals', ..., 'spirituality', 'substance-abuse', 'trauma', 'workplace-relationships']"
      ]
     },
     "execution_count": 16,
     "metadata": {},
     "output_type": "execute_result"
    }
   ],
   "source": [
    "df['topic']"
   ]
  },
  {
   "cell_type": "markdown",
   "metadata": {},
   "source": [
    "### Label Encoding Categorical Features"
   ]
  },
  {
   "cell_type": "code",
   "execution_count": 17,
   "metadata": {},
   "outputs": [],
   "source": [
    "encoder = LabelEncoder()\n",
    "df['topic'] = encoder.fit_transform(df['topic'])"
   ]
  },
  {
   "cell_type": "code",
   "execution_count": 18,
   "metadata": {},
   "outputs": [
    {
     "name": "stdout",
     "output_type": "stream",
     "text": [
      "<class 'pandas.core.frame.DataFrame'>\n",
      "RangeIndex: 2047 entries, 0 to 2046\n",
      "Data columns (total 6 columns):\n",
      " #   Column         Non-Null Count  Dtype \n",
      "---  ------         --------------  ----- \n",
      " 0   index          2047 non-null   int64 \n",
      " 1   questionTitle  2047 non-null   object\n",
      " 2   questionText   2047 non-null   object\n",
      " 3   topic          2047 non-null   int32 \n",
      " 4   answerText     2047 non-null   object\n",
      " 5   split          2047 non-null   object\n",
      "dtypes: int32(1), int64(1), object(4)\n",
      "memory usage: 88.1+ KB\n"
     ]
    }
   ],
   "source": [
    "df.info()"
   ]
  },
  {
   "cell_type": "code",
   "execution_count": 19,
   "metadata": {},
   "outputs": [
    {
     "data": {
      "text/plain": [
       "4     330\n",
       "1     249\n",
       "3     240\n",
       "8     205\n",
       "14    174\n",
       "11    145\n",
       "7     116\n",
       "15     83\n",
       "13     76\n",
       "19     66\n",
       "2      51\n",
       "10     46\n",
       "0      38\n",
       "9      38\n",
       "18     35\n",
       "17     34\n",
       "12     32\n",
       "20     26\n",
       "5      22\n",
       "6      21\n",
       "16     20\n",
       "Name: topic, dtype: int64"
      ]
     },
     "execution_count": 19,
     "metadata": {},
     "output_type": "execute_result"
    }
   ],
   "source": [
    "df['topic'].value_counts()"
   ]
  },
  {
   "cell_type": "markdown",
   "metadata": {},
   "source": [
    "### Cleaning Texts in order to tokenize it to few important tokens"
   ]
  },
  {
   "cell_type": "code",
   "execution_count": 20,
   "metadata": {},
   "outputs": [
    {
     "data": {
      "text/plain": [
       "'going things feelings barely sleep nothing think worthless never tried contemplated suicide always wanted fix issues never get around'"
      ]
     },
     "execution_count": 20,
     "metadata": {},
     "output_type": "execute_result"
    }
   ],
   "source": [
    "sen = \"I'm going through some things with my feelings and myself. I barely sleep and I do nothing but think about how I'm worthless and how I shouldn't be here.I've never tried or contemplated suicide. I've always wanted to fix my issues, but I never get around to it.\"\n",
    "\n",
    "\n",
    "text = ''.join([x if x not in string.punctuation else ' ' for x in sen])\n",
    "\n",
    "\n",
    "text = text.lower().split()\n",
    "\n",
    "\n",
    "stop_words = set(stopwords.words('english'))\n",
    "filtered_words = [word for word in text if word not in stop_words]\n",
    "filtered_text = ' '.join(filtered_words)\n",
    "\n",
    "\n",
    "filtered_text = re.sub(r'[^\\w\\s]', '', filtered_text)\n",
    "filtered_text\n"
   ]
  },
  {
   "cell_type": "code",
   "execution_count": 21,
   "metadata": {},
   "outputs": [],
   "source": [
    "def clean_text(text):\n",
    "    text = ''.join([x if x not in string.punctuation else ' ' for x in text])\n",
    "    text = text.lower().split()\n",
    "    stop_words = set(stopwords.words('english'))\n",
    "    filtered_words = [word for word in text if word not in stop_words]\n",
    "    filtered_text = ' '.join(filtered_words)\n",
    "\n",
    "\n",
    "    filtered_text = re.sub(r'[^\\w\\s]', '', filtered_text)\n",
    "    return filtered_text\n",
    "\n",
    "df['qtext_tokenized'] = df['questionText'].apply(clean_text)"
   ]
  },
  {
   "cell_type": "code",
   "execution_count": 22,
   "metadata": {},
   "outputs": [
    {
     "data": {
      "text/html": [
       "<div>\n",
       "<style scoped>\n",
       "    .dataframe tbody tr th:only-of-type {\n",
       "        vertical-align: middle;\n",
       "    }\n",
       "\n",
       "    .dataframe tbody tr th {\n",
       "        vertical-align: top;\n",
       "    }\n",
       "\n",
       "    .dataframe thead th {\n",
       "        text-align: right;\n",
       "    }\n",
       "</style>\n",
       "<table border=\"1\" class=\"dataframe\">\n",
       "  <thead>\n",
       "    <tr style=\"text-align: right;\">\n",
       "      <th></th>\n",
       "      <th>index</th>\n",
       "      <th>questionTitle</th>\n",
       "      <th>questionText</th>\n",
       "      <th>topic</th>\n",
       "      <th>answerText</th>\n",
       "      <th>split</th>\n",
       "      <th>qtext_tokenized</th>\n",
       "    </tr>\n",
       "  </thead>\n",
       "  <tbody>\n",
       "    <tr>\n",
       "      <th>0</th>\n",
       "      <td>0</td>\n",
       "      <td>Can I change my feeling of being worthless to ...</td>\n",
       "      <td>I'm going through some things with my feelings...</td>\n",
       "      <td>4</td>\n",
       "      <td>If everyone thinks you're worthless, then mayb...</td>\n",
       "      <td>train</td>\n",
       "      <td>going things feelings barely sleep nothing thi...</td>\n",
       "    </tr>\n",
       "    <tr>\n",
       "      <th>1</th>\n",
       "      <td>1</td>\n",
       "      <td>Can I change my feeling of being worthless to ...</td>\n",
       "      <td>I'm going through some things with my feelings...</td>\n",
       "      <td>4</td>\n",
       "      <td>Hello, and thank you for your question and see...</td>\n",
       "      <td>train</td>\n",
       "      <td>going things feelings barely sleep nothing thi...</td>\n",
       "    </tr>\n",
       "    <tr>\n",
       "      <th>2</th>\n",
       "      <td>2</td>\n",
       "      <td>Can I change my feeling of being worthless to ...</td>\n",
       "      <td>I'm going through some things with my feelings...</td>\n",
       "      <td>4</td>\n",
       "      <td>First thing I'd suggest is getting the sleep y...</td>\n",
       "      <td>train</td>\n",
       "      <td>going things feelings barely sleep nothing thi...</td>\n",
       "    </tr>\n",
       "    <tr>\n",
       "      <th>3</th>\n",
       "      <td>3</td>\n",
       "      <td>Can I change my feeling of being worthless to ...</td>\n",
       "      <td>I'm going through some things with my feelings...</td>\n",
       "      <td>4</td>\n",
       "      <td>Therapy is essential for those that are feelin...</td>\n",
       "      <td>train</td>\n",
       "      <td>going things feelings barely sleep nothing thi...</td>\n",
       "    </tr>\n",
       "    <tr>\n",
       "      <th>4</th>\n",
       "      <td>4</td>\n",
       "      <td>Can I change my feeling of being worthless to ...</td>\n",
       "      <td>I'm going through some things with my feelings...</td>\n",
       "      <td>4</td>\n",
       "      <td>I first want to let you know that you are not ...</td>\n",
       "      <td>train</td>\n",
       "      <td>going things feelings barely sleep nothing thi...</td>\n",
       "    </tr>\n",
       "    <tr>\n",
       "      <th>...</th>\n",
       "      <td>...</td>\n",
       "      <td>...</td>\n",
       "      <td>...</td>\n",
       "      <td>...</td>\n",
       "      <td>...</td>\n",
       "      <td>...</td>\n",
       "      <td>...</td>\n",
       "    </tr>\n",
       "    <tr>\n",
       "      <th>2042</th>\n",
       "      <td>2124</td>\n",
       "      <td>What happens in a counseling session?</td>\n",
       "      <td>After first meeting the client, what is the pr...</td>\n",
       "      <td>3</td>\n",
       "      <td>There are probably no two therapists alike bec...</td>\n",
       "      <td>train</td>\n",
       "      <td>first meeting client process counselor facilit...</td>\n",
       "    </tr>\n",
       "    <tr>\n",
       "      <th>2043</th>\n",
       "      <td>2125</td>\n",
       "      <td>What happens in a counseling session?</td>\n",
       "      <td>After first meeting the client, what is the pr...</td>\n",
       "      <td>3</td>\n",
       "      <td>Each counselor may have a different process, s...</td>\n",
       "      <td>train</td>\n",
       "      <td>first meeting client process counselor facilit...</td>\n",
       "    </tr>\n",
       "    <tr>\n",
       "      <th>2044</th>\n",
       "      <td>2126</td>\n",
       "      <td>What happens in a counseling session?</td>\n",
       "      <td>After first meeting the client, what is the pr...</td>\n",
       "      <td>3</td>\n",
       "      <td>After meeting a client, many Counselors will a...</td>\n",
       "      <td>train</td>\n",
       "      <td>first meeting client process counselor facilit...</td>\n",
       "    </tr>\n",
       "    <tr>\n",
       "      <th>2045</th>\n",
       "      <td>2127</td>\n",
       "      <td>What happens in a counseling session?</td>\n",
       "      <td>After first meeting the client, what is the pr...</td>\n",
       "      <td>3</td>\n",
       "      <td>A good therapist will discuss what brought you...</td>\n",
       "      <td>train</td>\n",
       "      <td>first meeting client process counselor facilit...</td>\n",
       "    </tr>\n",
       "    <tr>\n",
       "      <th>2046</th>\n",
       "      <td>2128</td>\n",
       "      <td>What happens in a counseling session?</td>\n",
       "      <td>After first meeting the client, what is the pr...</td>\n",
       "      <td>3</td>\n",
       "      <td>Great question which I imagine many other peop...</td>\n",
       "      <td>train</td>\n",
       "      <td>first meeting client process counselor facilit...</td>\n",
       "    </tr>\n",
       "  </tbody>\n",
       "</table>\n",
       "<p>2047 rows × 7 columns</p>\n",
       "</div>"
      ],
      "text/plain": [
       "      index                                      questionTitle  \\\n",
       "0         0  Can I change my feeling of being worthless to ...   \n",
       "1         1  Can I change my feeling of being worthless to ...   \n",
       "2         2  Can I change my feeling of being worthless to ...   \n",
       "3         3  Can I change my feeling of being worthless to ...   \n",
       "4         4  Can I change my feeling of being worthless to ...   \n",
       "...     ...                                                ...   \n",
       "2042   2124              What happens in a counseling session?   \n",
       "2043   2125              What happens in a counseling session?   \n",
       "2044   2126              What happens in a counseling session?   \n",
       "2045   2127              What happens in a counseling session?   \n",
       "2046   2128              What happens in a counseling session?   \n",
       "\n",
       "                                           questionText  topic  \\\n",
       "0     I'm going through some things with my feelings...      4   \n",
       "1     I'm going through some things with my feelings...      4   \n",
       "2     I'm going through some things with my feelings...      4   \n",
       "3     I'm going through some things with my feelings...      4   \n",
       "4     I'm going through some things with my feelings...      4   \n",
       "...                                                 ...    ...   \n",
       "2042  After first meeting the client, what is the pr...      3   \n",
       "2043  After first meeting the client, what is the pr...      3   \n",
       "2044  After first meeting the client, what is the pr...      3   \n",
       "2045  After first meeting the client, what is the pr...      3   \n",
       "2046  After first meeting the client, what is the pr...      3   \n",
       "\n",
       "                                             answerText  split  \\\n",
       "0     If everyone thinks you're worthless, then mayb...  train   \n",
       "1     Hello, and thank you for your question and see...  train   \n",
       "2     First thing I'd suggest is getting the sleep y...  train   \n",
       "3     Therapy is essential for those that are feelin...  train   \n",
       "4     I first want to let you know that you are not ...  train   \n",
       "...                                                 ...    ...   \n",
       "2042  There are probably no two therapists alike bec...  train   \n",
       "2043  Each counselor may have a different process, s...  train   \n",
       "2044  After meeting a client, many Counselors will a...  train   \n",
       "2045  A good therapist will discuss what brought you...  train   \n",
       "2046  Great question which I imagine many other peop...  train   \n",
       "\n",
       "                                        qtext_tokenized  \n",
       "0     going things feelings barely sleep nothing thi...  \n",
       "1     going things feelings barely sleep nothing thi...  \n",
       "2     going things feelings barely sleep nothing thi...  \n",
       "3     going things feelings barely sleep nothing thi...  \n",
       "4     going things feelings barely sleep nothing thi...  \n",
       "...                                                 ...  \n",
       "2042  first meeting client process counselor facilit...  \n",
       "2043  first meeting client process counselor facilit...  \n",
       "2044  first meeting client process counselor facilit...  \n",
       "2045  first meeting client process counselor facilit...  \n",
       "2046  first meeting client process counselor facilit...  \n",
       "\n",
       "[2047 rows x 7 columns]"
      ]
     },
     "execution_count": 22,
     "metadata": {},
     "output_type": "execute_result"
    }
   ],
   "source": [
    "df"
   ]
  },
  {
   "cell_type": "code",
   "execution_count": 23,
   "metadata": {},
   "outputs": [
    {
     "data": {
      "text/plain": [
       "21"
      ]
     },
     "execution_count": 23,
     "metadata": {},
     "output_type": "execute_result"
    }
   ],
   "source": [
    "len(df['topic'].unique().tolist())"
   ]
  },
  {
   "cell_type": "code",
   "execution_count": 24,
   "metadata": {},
   "outputs": [
    {
     "data": {
      "text/plain": [
       "0"
      ]
     },
     "execution_count": 24,
     "metadata": {},
     "output_type": "execute_result"
    }
   ],
   "source": [
    "df.duplicated().sum()"
   ]
  },
  {
   "cell_type": "code",
   "execution_count": 25,
   "metadata": {},
   "outputs": [],
   "source": [
    "X = df.drop(columns=['topic'])"
   ]
  },
  {
   "cell_type": "code",
   "execution_count": 26,
   "metadata": {},
   "outputs": [
    {
     "data": {
      "text/plain": [
       "(2047, 6)"
      ]
     },
     "execution_count": 26,
     "metadata": {},
     "output_type": "execute_result"
    }
   ],
   "source": [
    "X.shape"
   ]
  },
  {
   "cell_type": "code",
   "execution_count": 27,
   "metadata": {},
   "outputs": [
    {
     "data": {
      "text/plain": [
       "train    1763\n",
       "val       172\n",
       "test      112\n",
       "Name: split, dtype: int64"
      ]
     },
     "execution_count": 27,
     "metadata": {},
     "output_type": "execute_result"
    }
   ],
   "source": [
    "X['split'].value_counts()"
   ]
  },
  {
   "cell_type": "markdown",
   "metadata": {},
   "source": [
    "### Splitting Data into Train,Validation and Split"
   ]
  },
  {
   "cell_type": "code",
   "execution_count": 28,
   "metadata": {},
   "outputs": [
    {
     "name": "stdout",
     "output_type": "stream",
     "text": [
      "Shapes for train , val , test are (1763, 6) (172, 6) (112, 6)\n"
     ]
    }
   ],
   "source": [
    "X_train = X[df['split']==\"train\"]\n",
    "X_val   = X[df['split']==\"val\"]\n",
    "X_test  = X[df['split']==\"test\"]\n",
    "\n",
    "print(\"Shapes for train , val , test are {} {} {}\".format(X_train.shape,X_val.shape,X_test.shape))"
   ]
  },
  {
   "cell_type": "code",
   "execution_count": 29,
   "metadata": {},
   "outputs": [],
   "source": [
    "Y_train = df.iloc[X_train.index]['topic']\n",
    "Y_val  =  df.iloc[X_val.index]['topic']\n",
    "Y_test =  df.iloc[X_test.index]['topic']"
   ]
  },
  {
   "cell_type": "markdown",
   "metadata": {},
   "source": [
    "### Using TFIDF to vectorize Texts"
   ]
  },
  {
   "cell_type": "code",
   "execution_count": 30,
   "metadata": {},
   "outputs": [],
   "source": [
    "vectorizer = TfidfVectorizer()\n",
    "X_train_vec = vectorizer.fit_transform(X_train['qtext_tokenized'])\n",
    "X_val_vec   = vectorizer.transform(X_val['qtext_tokenized'])\n",
    "X_test_vec  = vectorizer.transform(X_test['qtext_tokenized'])"
   ]
  },
  {
   "cell_type": "code",
   "execution_count": 31,
   "metadata": {},
   "outputs": [
    {
     "data": {
      "text/plain": [
       "<1x3155 sparse matrix of type '<class 'numpy.float64'>'\n",
       "\twith 21 stored elements in Compressed Sparse Row format>"
      ]
     },
     "execution_count": 31,
     "metadata": {},
     "output_type": "execute_result"
    }
   ],
   "source": [
    "X_train_vec[0]"
   ]
  },
  {
   "cell_type": "markdown",
   "metadata": {},
   "source": [
    "### Applying SVM,Support Vector Classifier and Naive Bayes "
   ]
  },
  {
   "cell_type": "code",
   "execution_count": 32,
   "metadata": {},
   "outputs": [],
   "source": [
    "models = [\n",
    "    SVC(kernel=\"rbf\", gamma=0.1),\n",
    "    RandomForestClassifier(n_estimators=100,random_state=44),\n",
    "    MultinomialNB()\n",
    "]\n",
    "\n",
    "table = PrettyTable()\n",
    "table.field_names = [\"Model\", \"Accuracy_Train\",\"Accuracy_CV\",\"Accuracy_Test\"]\n",
    "\n",
    "for model in models:\n",
    "        model.fit(X_train_vec,Y_train)\n",
    "        y_pred_train = model.predict(X_train_vec)\n",
    "        accuracy_train = getaccuracy(y_pred_train,Y_train)\n",
    "        \n",
    "        y_pred_val = model.predict(X_val_vec)\n",
    "        accuracy_val = getaccuracy(y_pred_val,Y_val)\n",
    "\n",
    "        y_pred_test = model.predict(X_test_vec)\n",
    "        accuracy_test = getaccuracy(y_pred_test,Y_test)\n",
    "        table.add_row([type(model).__name__, format(accuracy_train, '.2f'), format(accuracy_val, '.2f'),format(accuracy_test, '.2f')])\n"
   ]
  },
  {
   "cell_type": "markdown",
   "metadata": {},
   "source": [
    "### Analyzing Accuracy among train,test,val"
   ]
  },
  {
   "cell_type": "code",
   "execution_count": 33,
   "metadata": {},
   "outputs": [
    {
     "data": {
      "text/html": [
       "<table>\n",
       "    <thead>\n",
       "        <tr>\n",
       "            <th>Model</th>\n",
       "            <th>Accuracy_Train</th>\n",
       "            <th>Accuracy_CV</th>\n",
       "            <th>Accuracy_Test</th>\n",
       "        </tr>\n",
       "    </thead>\n",
       "    <tbody>\n",
       "        <tr>\n",
       "            <td>SVC</td>\n",
       "            <td>64.15</td>\n",
       "            <td>34.30</td>\n",
       "            <td>25.00</td>\n",
       "        </tr>\n",
       "        <tr>\n",
       "            <td>RandomForestClassifier</td>\n",
       "            <td>95.97</td>\n",
       "            <td>38.95</td>\n",
       "            <td>38.39</td>\n",
       "        </tr>\n",
       "        <tr>\n",
       "            <td>MultinomialNB</td>\n",
       "            <td>71.36</td>\n",
       "            <td>31.40</td>\n",
       "            <td>17.86</td>\n",
       "        </tr>\n",
       "    </tbody>\n",
       "</table>"
      ],
      "text/plain": [
       "+------------------------+----------------+-------------+---------------+\n",
       "|         Model          | Accuracy_Train | Accuracy_CV | Accuracy_Test |\n",
       "+------------------------+----------------+-------------+---------------+\n",
       "|          SVC           |     64.15      |    34.30    |     25.00     |\n",
       "| RandomForestClassifier |     95.97      |    38.95    |     38.39     |\n",
       "|     MultinomialNB      |     71.36      |    31.40    |     17.86     |\n",
       "+------------------------+----------------+-------------+---------------+"
      ]
     },
     "execution_count": 33,
     "metadata": {},
     "output_type": "execute_result"
    }
   ],
   "source": [
    "table"
   ]
  },
  {
   "cell_type": "code",
   "execution_count": 43,
   "metadata": {},
   "outputs": [
    {
     "data": {
      "text/plain": [
       "RandomForestClassifier(random_state=44)"
      ]
     },
     "execution_count": 43,
     "metadata": {},
     "output_type": "execute_result"
    }
   ],
   "source": [
    "models[1].fit(X_train_vec, Y_train)"
   ]
  },
  {
   "cell_type": "code",
   "execution_count": 44,
   "metadata": {},
   "outputs": [
    {
     "data": {
      "text/plain": [
       "array([4, 4, 4, ..., 3, 3, 3])"
      ]
     },
     "execution_count": 44,
     "metadata": {},
     "output_type": "execute_result"
    }
   ],
   "source": [
    "y_pred_train = models[1].predict(X_train_vec)\n",
    "y_pred_train"
   ]
  },
  {
   "cell_type": "code",
   "execution_count": 45,
   "metadata": {},
   "outputs": [],
   "source": [
    "def getaccuracy(y_pred,y):\n",
    "    accuracy = (((y_pred==y).astype(int).sum())/(len(y)))*100\n",
    "    return accuracy"
   ]
  },
  {
   "cell_type": "code",
   "execution_count": 46,
   "metadata": {},
   "outputs": [
    {
     "data": {
      "text/plain": [
       "95.97277368122519"
      ]
     },
     "execution_count": 46,
     "metadata": {},
     "output_type": "execute_result"
    }
   ],
   "source": [
    "accuracy_train = getaccuracy(y_pred_train,Y_train)\n",
    "accuracy_train"
   ]
  },
  {
   "cell_type": "code",
   "execution_count": 48,
   "metadata": {},
   "outputs": [
    {
     "data": {
      "text/plain": [
       "38.95348837209303"
      ]
     },
     "execution_count": 48,
     "metadata": {},
     "output_type": "execute_result"
    }
   ],
   "source": [
    "y_pred_val = models[1].predict(X_val_vec)\n",
    "accuracy_val = getaccuracy(y_pred_val,Y_val)\n",
    "accuracy_val"
   ]
  },
  {
   "cell_type": "code",
   "execution_count": 49,
   "metadata": {},
   "outputs": [
    {
     "data": {
      "text/plain": [
       "38.392857142857146"
      ]
     },
     "execution_count": 49,
     "metadata": {},
     "output_type": "execute_result"
    }
   ],
   "source": [
    "y_pred_test = models[1].predict(X_test_vec)\n",
    "accuracy_test = getaccuracy(y_pred_test,Y_test)\n",
    "accuracy_test"
   ]
  },
  {
   "cell_type": "markdown",
   "metadata": {},
   "source": [
    "## Classification Reports"
   ]
  },
  {
   "cell_type": "code",
   "execution_count": 51,
   "metadata": {},
   "outputs": [
    {
     "data": {
      "text/plain": [
       "{'0': {'precision': 1.0, 'recall': 1.0, 'f1-score': 1.0, 'support': 37},\n",
       " '1': {'precision': 1.0, 'recall': 1.0, 'f1-score': 1.0, 'support': 217},\n",
       " '2': {'precision': 1.0, 'recall': 1.0, 'f1-score': 1.0, 'support': 49},\n",
       " '3': {'precision': 1.0,\n",
       "  'recall': 0.7481203007518797,\n",
       "  'f1-score': 0.8559139784946237,\n",
       "  'support': 266},\n",
       " '4': {'precision': 0.8356164383561644,\n",
       "  'recall': 0.9878542510121457,\n",
       "  'f1-score': 0.9053803339517625,\n",
       "  'support': 247},\n",
       " '5': {'precision': 0.8421052631578947,\n",
       "  'recall': 0.9411764705882353,\n",
       "  'f1-score': 0.8888888888888888,\n",
       "  'support': 17},\n",
       " '6': {'precision': 1.0, 'recall': 1.0, 'f1-score': 1.0, 'support': 17},\n",
       " '7': {'precision': 1.0, 'recall': 1.0, 'f1-score': 1.0, 'support': 101},\n",
       " '8': {'precision': 1.0, 'recall': 1.0, 'f1-score': 1.0, 'support': 145},\n",
       " '9': {'precision': 1.0, 'recall': 1.0, 'f1-score': 1.0, 'support': 34},\n",
       " '10': {'precision': 1.0, 'recall': 1.0, 'f1-score': 1.0, 'support': 44},\n",
       " '11': {'precision': 1.0, 'recall': 1.0, 'f1-score': 1.0, 'support': 130},\n",
       " '12': {'precision': 0.3103448275862069,\n",
       "  'recall': 1.0,\n",
       "  'f1-score': 0.4736842105263158,\n",
       "  'support': 9},\n",
       " '13': {'precision': 1.0, 'recall': 1.0, 'f1-score': 1.0, 'support': 61},\n",
       " '14': {'precision': 1.0, 'recall': 1.0, 'f1-score': 1.0, 'support': 151},\n",
       " '15': {'precision': 1.0, 'recall': 1.0, 'f1-score': 1.0, 'support': 66},\n",
       " '16': {'precision': 1.0, 'recall': 1.0, 'f1-score': 1.0, 'support': 20},\n",
       " '17': {'precision': 1.0, 'recall': 1.0, 'f1-score': 1.0, 'support': 32},\n",
       " '18': {'precision': 1.0, 'recall': 1.0, 'f1-score': 1.0, 'support': 29},\n",
       " '19': {'precision': 1.0, 'recall': 1.0, 'f1-score': 1.0, 'support': 65},\n",
       " '20': {'precision': 1.0, 'recall': 1.0, 'f1-score': 1.0, 'support': 26},\n",
       " 'accuracy': 0.9597277368122519,\n",
       " 'macro avg': {'precision': 0.9518126918619174,\n",
       "  'recall': 0.9846262391596315,\n",
       "  'f1-score': 0.9582794005648376,\n",
       "  'support': 1763},\n",
       " 'weighted avg': {'precision': 0.9719263489483453,\n",
       "  'recall': 0.9597277368122519,\n",
       "  'f1-score': 0.9612457911352826,\n",
       "  'support': 1763}}"
      ]
     },
     "execution_count": 51,
     "metadata": {},
     "output_type": "execute_result"
    }
   ],
   "source": [
    "report = classification_report(y_pred_train, Y_train, output_dict=True, zero_division=0)\n",
    "report"
   ]
  },
  {
   "cell_type": "code",
   "execution_count": 40,
   "metadata": {},
   "outputs": [
    {
     "data": {
      "text/plain": [
       "{'0': {'precision': 0.0, 'recall': 0.0, 'f1-score': 0.0, 'support': 0},\n",
       " '1': {'precision': 0.32142857142857145,\n",
       "  'recall': 0.5294117647058824,\n",
       "  'f1-score': 0.39999999999999997,\n",
       "  'support': 17},\n",
       " '2': {'precision': 0.0, 'recall': 0.0, 'f1-score': 0.0, 'support': 0},\n",
       " '3': {'precision': 0.0, 'recall': 0.0, 'f1-score': 0.0, 'support': 0},\n",
       " '4': {'precision': 1.0,\n",
       "  'recall': 0.31521739130434784,\n",
       "  'f1-score': 0.4793388429752066,\n",
       "  'support': 92},\n",
       " '5': {'precision': 0.0, 'recall': 0.0, 'f1-score': 0.0, 'support': 0},\n",
       " '6': {'precision': 0.0, 'recall': 0.0, 'f1-score': 0.0, 'support': 0},\n",
       " '7': {'precision': 0.0, 'recall': 0.0, 'f1-score': 0.0, 'support': 0},\n",
       " '8': {'precision': 0.43478260869565216,\n",
       "  'recall': 0.8333333333333334,\n",
       "  'f1-score': 0.5714285714285714,\n",
       "  'support': 24},\n",
       " '9': {'precision': 0.0, 'recall': 0.0, 'f1-score': 0.0, 'support': 0},\n",
       " '10': {'precision': 0.0, 'recall': 0.0, 'f1-score': 0.0, 'support': 0},\n",
       " '11': {'precision': 0.18181818181818182,\n",
       "  'recall': 0.6666666666666666,\n",
       "  'f1-score': 0.28571428571428575,\n",
       "  'support': 3},\n",
       " '12': {'precision': 0.0, 'recall': 0.0, 'f1-score': 0.0, 'support': 0},\n",
       " '13': {'precision': 0.0, 'recall': 0.0, 'f1-score': 0.0, 'support': 0},\n",
       " '14': {'precision': 0.5,\n",
       "  'recall': 0.1111111111111111,\n",
       "  'f1-score': 0.1818181818181818,\n",
       "  'support': 36},\n",
       " '15': {'precision': 0.0, 'recall': 0.0, 'f1-score': 0.0, 'support': 0},\n",
       " '17': {'precision': 0.0, 'recall': 0.0, 'f1-score': 0.0, 'support': 0},\n",
       " '19': {'precision': 0.0, 'recall': 0.0, 'f1-score': 0.0, 'support': 0},\n",
       " 'accuracy': 0.37209302325581395,\n",
       " 'macro avg': {'precision': 0.13544607566346695,\n",
       "  'recall': 0.1364300148400745,\n",
       "  'f1-score': 0.10657221566312475,\n",
       "  'support': 172},\n",
       " 'weighted avg': {'precision': 0.7351425748164878,\n",
       "  'recall': 0.37209302325581395,\n",
       "  'f1-score': 0.4186980038988496,\n",
       "  'support': 172}}"
      ]
     },
     "execution_count": 40,
     "metadata": {},
     "output_type": "execute_result"
    }
   ],
   "source": [
    "report = classification_report(y_pred_val, Y_val, output_dict=True, zero_division=0)\n",
    "report"
   ]
  },
  {
   "cell_type": "markdown",
   "metadata": {},
   "source": [
    "### Testing against Custom Input"
   ]
  },
  {
   "cell_type": "code",
   "execution_count": 53,
   "metadata": {},
   "outputs": [],
   "source": [
    "def getintent(test_input):\n",
    "    input_txt = clean_text(test_input)\n",
    "    input_txt = vectorizer.transform([test_input])\n",
    "    pred = models[1].predict(input_txt)\n",
    "    intent = encoder.inverse_transform(pred)[0]\n",
    "    return intent"
   ]
  },
  {
   "cell_type": "code",
   "execution_count": 54,
   "metadata": {},
   "outputs": [
    {
     "data": {
      "text/plain": [
       "'behavioral-change'"
      ]
     },
     "execution_count": 54,
     "metadata": {},
     "output_type": "execute_result"
    }
   ],
   "source": [
    "intent = getintent(\"I often find myself on edge, worrying about things that might never happen\")\n",
    "intent"
   ]
  },
  {
   "cell_type": "code",
   "execution_count": 55,
   "metadata": {},
   "outputs": [
    {
     "data": {
      "text/plain": [
       "'depression'"
      ]
     },
     "execution_count": 55,
     "metadata": {},
     "output_type": "execute_result"
    }
   ],
   "source": [
    "intent = getintent(\"It's like I'm living in a never-ending fog, where even the simplest tasks feel overwhelmingly difficult.\")\n",
    "intent\n"
   ]
  },
  {
   "cell_type": "code",
   "execution_count": 56,
   "metadata": {},
   "outputs": [
    {
     "data": {
      "text/plain": [
       "'intimacy'"
      ]
     },
     "execution_count": 56,
     "metadata": {},
     "output_type": "execute_result"
    }
   ],
   "source": [
    "intent = getintent(\"I pretend we aren't married at my work. Recently, he has caught on, but I lie to cover it. He use to talk to girls online, but I have caught myself constantly having a affair.\")\n",
    "intent"
   ]
  },
  {
   "cell_type": "code",
   "execution_count": 57,
   "metadata": {},
   "outputs": [
    {
     "data": {
      "text/plain": [
       "'domestic-violence'"
      ]
     },
     "execution_count": 57,
     "metadata": {},
     "output_type": "execute_result"
    }
   ],
   "source": [
    "text = \"He is verbally abusive. When he gets mad, he just yells at me. At times, I feel scared.\"\n",
    "intent = getintent(text)\n",
    "intent"
   ]
  },
  {
   "cell_type": "code",
   "execution_count": 58,
   "metadata": {},
   "outputs": [
    {
     "data": {
      "text/plain": [
       "'anxiety'"
      ]
     },
     "execution_count": 58,
     "metadata": {},
     "output_type": "execute_result"
    }
   ],
   "source": [
    "\n",
    "text = \"When I'm in large crowds I get angry and I just can't deal with people.\"\n",
    "intent = getintent(text)\n",
    "intent"
   ]
  }
 ],
 "metadata": {
  "kernelspec": {
   "display_name": "base",
   "language": "python",
   "name": "python3"
  },
  "language_info": {
   "codemirror_mode": {
    "name": "ipython",
    "version": 3
   },
   "file_extension": ".py",
   "mimetype": "text/x-python",
   "name": "python",
   "nbconvert_exporter": "python",
   "pygments_lexer": "ipython3",
   "version": "3.9.13"
  }
 },
 "nbformat": 4,
 "nbformat_minor": 2
}
